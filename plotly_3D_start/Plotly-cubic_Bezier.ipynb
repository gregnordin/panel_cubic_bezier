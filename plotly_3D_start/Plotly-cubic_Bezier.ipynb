{
 "cells": [
  {
   "cell_type": "markdown",
   "id": "71d9902c-224c-4487-a5bf-47b49789602c",
   "metadata": {},
   "source": [
    "# Purpose\n",
    "\n",
    "Show 3D line plot of cubic spline using plotly. Try out Express and Extended APIs. Find that only the latter allows setting the camera position and angle."
   ]
  },
  {
   "cell_type": "markdown",
   "id": "acb46d7e-b31e-442d-8317-8248cab76c4e",
   "metadata": {},
   "source": [
    "# Imports"
   ]
  },
  {
   "cell_type": "code",
   "execution_count": 1,
   "id": "229f730e-4d7b-4df0-aed6-6ac813950d70",
   "metadata": {},
   "outputs": [],
   "source": [
    "import numpy as np\n",
    "import pandas as pd\n",
    "import plotly.express as px"
   ]
  },
  {
   "cell_type": "markdown",
   "id": "58392a5b-12a7-4bdc-b2ea-9575e5204b6f",
   "metadata": {},
   "source": [
    "# Code"
   ]
  },
  {
   "cell_type": "code",
   "execution_count": 2,
   "id": "93a1c1f8-8f9a-44f7-b363-435454709ef3",
   "metadata": {},
   "outputs": [],
   "source": [
    "def p(t, c0, c1, c2, c3):\n",
    "    t0 = (1 - t)**3\n",
    "    t1 = 3 * t * (1 - t)**2\n",
    "    t2 = 3 * (t**2) * (1 - t)\n",
    "    t3 = t**3\n",
    "    # print(t0, t1, t2, t3)\n",
    "    return t0*c0 + t1*c1 + t2*c2 + t3*c3\n",
    "\n",
    "def dp(t, c0, c1, c2, c3):\n",
    "    a0 = -3 * c0 * (1 - t)**2\n",
    "    a1 = 3 * c1 * (t * (2*t - 2) + (1 - t)**2)\n",
    "    a2 = 3 * c2 * (-1 * t**2 + 2 * t * (1 - t))\n",
    "    a3 = 3 * c3 * t**2\n",
    "    return a0 + a1 + a2 + a3\n",
    "\n",
    "def show_head_and_tail(df, nrows=5):\n",
    "    \"\"\"See https://www.askpython.com/python-modules/pandas/head-and-tail-of-dataframe-series\n",
    "    \"\"\"\n",
    "    with pd.option_context('display.max_rows', 2 * nrows):\n",
    "        print(df)"
   ]
  },
  {
   "cell_type": "markdown",
   "id": "fb73eab4-91fd-4023-81d8-b829b75977f4",
   "metadata": {},
   "source": [
    "# Set up case"
   ]
  },
  {
   "cell_type": "code",
   "execution_count": 8,
   "id": "31ce0e31-1518-4e22-8e12-45b31f3a8e99",
   "metadata": {},
   "outputs": [
    {
     "name": "stdout",
     "output_type": "stream",
     "text": [
      "        t         x         y         z\n",
      "0    0.00  0.000000  0.000000  0.000000\n",
      "1    0.01  0.049404  0.000596  0.000447\n",
      "2    0.02  0.097632  0.002368  0.001776\n",
      "3    0.03  0.144708  0.005292  0.003969\n",
      "4    0.04  0.190656  0.009344  0.007008\n",
      "..    ...       ...       ...       ...\n",
      "96   0.96  2.809344  1.990656  1.492992\n",
      "97   0.97  2.855292  1.994708  1.496031\n",
      "98   0.98  2.902368  1.997632  1.498224\n",
      "99   0.99  2.950596  1.999404  1.499553\n",
      "100  1.00  3.000000  2.000000  1.500000\n",
      "\n",
      "[101 rows x 4 columns]\n"
     ]
    }
   ],
   "source": [
    "k = 3\n",
    "b = 2\n",
    "d0_multiplier = 5\n",
    "d1_multiplier = 5\n",
    "p0 = np.array([0, 0, 0])\n",
    "p1 = np.array([k, b, 1.5])\n",
    "d0 = d0_multiplier * np.array([1, 0, 0])\n",
    "d1 = d1_multiplier * np.array([1, 0, 0])\n",
    "\n",
    "c0 = p0\n",
    "c1 = p0 + d0 / 3.\n",
    "c2 = p1 - d1 / 3.\n",
    "c3 = p1\n",
    "\n",
    "tt = np.linspace(0, 1, 101)\n",
    "pt = np.array([p(t, c0, c1, c2, c3) for t in tt])\n",
    "\n",
    "# dp(0.5, c0, c1, c2, c3)\n",
    "\n",
    "df = pd.DataFrame(np.array([tt, pt[:, 0], pt[:, 1], pt[:, 2]]).T, columns=['t', 'x', 'y', 'z'])\n",
    "\n",
    "show_head_and_tail(df)"
   ]
  },
  {
   "cell_type": "markdown",
   "id": "ad3b1898-57ef-4648-8d3a-b4c34d89d507",
   "metadata": {
    "tags": []
   },
   "source": [
    "# 3D plot with express API"
   ]
  },
  {
   "cell_type": "code",
   "execution_count": 9,
   "id": "65af062c-3b0e-4240-a979-efeaabcf970e",
   "metadata": {},
   "outputs": [
    {
     "data": {
      "application/vnd.plotly.v1+json": {
       "config": {
        "plotlyServerURL": "https://plot.ly"
       },
       "data": [
        {
         "hovertemplate": "x=%{x}<br>y=%{y}<br>z=%{z}<extra></extra>",
         "legendgroup": "",
         "line": {
          "color": "#636efa",
          "dash": "solid"
         },
         "marker": {
          "symbol": "circle"
         },
         "mode": "lines",
         "name": "",
         "scene": "scene",
         "showlegend": false,
         "type": "scatter3d",
         "x": [
          0,
          0.049404,
          0.097632,
          0.14470799999999998,
          0.19065600000000002,
          0.23550000000000004,
          0.27926399999999996,
          0.32197200000000004,
          0.363648,
          0.40431600000000006,
          0.44400000000000006,
          0.4827240000000001,
          0.520512,
          0.5573880000000001,
          0.5933760000000001,
          0.6285,
          0.6627839999999998,
          0.6962520000000001,
          0.7289280000000001,
          0.7608360000000002,
          0.7920000000000003,
          0.8224440000000001,
          0.8521920000000001,
          0.881268,
          0.9096959999999998,
          0.9375,
          0.9647040000000001,
          0.9913319999999999,
          1.017408,
          1.0429559999999998,
          1.0679999999999998,
          1.0925639999999996,
          1.1166719999999997,
          1.140348,
          1.1636159999999998,
          1.1864999999999997,
          1.2090239999999999,
          1.231212,
          1.2530880000000002,
          1.2746759999999997,
          1.2960000000000003,
          1.317084,
          1.3379520000000003,
          1.3586280000000004,
          1.3791360000000001,
          1.3995000000000002,
          1.4197440000000001,
          1.4398920000000002,
          1.459968,
          1.4799959999999999,
          1.5,
          1.520004,
          1.540032,
          1.560108,
          1.5802559999999999,
          1.6005000000000003,
          1.620864,
          1.641372,
          1.6620479999999997,
          1.6829159999999999,
          1.704,
          1.725324,
          1.746912,
          1.7687880000000002,
          1.7909760000000001,
          1.8135,
          1.8363840000000002,
          1.859652,
          1.883328,
          1.9074360000000001,
          1.9320000000000002,
          1.957044,
          1.982592,
          2.0086679999999997,
          2.0352959999999998,
          2.0625,
          2.090304,
          2.1187319999999996,
          2.147808,
          2.177556,
          2.208,
          2.2391639999999997,
          2.271072,
          2.303748,
          2.3372159999999997,
          2.3714999999999997,
          2.406624,
          2.4426119999999996,
          2.479488,
          2.517276,
          2.556,
          2.5956840000000003,
          2.636352,
          2.6780280000000003,
          2.720736,
          2.7645000000000004,
          2.809344,
          2.855292,
          2.9023679999999996,
          2.9505960000000004,
          3
         ],
         "y": [
          0,
          0.0005960000000000001,
          0.0023680000000000003,
          0.005292000000000001,
          0.009344,
          0.014500000000000002,
          0.020735999999999997,
          0.028028,
          0.036352,
          0.045684,
          0.056000000000000015,
          0.067276,
          0.079488,
          0.09261200000000001,
          0.10662400000000001,
          0.1215,
          0.137216,
          0.15374800000000002,
          0.171072,
          0.18916400000000003,
          0.20800000000000007,
          0.22755599999999998,
          0.247808,
          0.268732,
          0.290304,
          0.3125,
          0.33529600000000004,
          0.358668,
          0.382592,
          0.4070439999999999,
          0.432,
          0.45743599999999995,
          0.483328,
          0.509652,
          0.536384,
          0.5635,
          0.590976,
          0.618788,
          0.6469119999999999,
          0.675324,
          0.7040000000000001,
          0.7329160000000001,
          0.762048,
          0.7913720000000001,
          0.820864,
          0.8505000000000001,
          0.8802560000000001,
          0.9101080000000001,
          0.940032,
          0.970004,
          1,
          1.0299960000000001,
          1.059968,
          1.089892,
          1.119744,
          1.1495000000000002,
          1.1791360000000002,
          1.208628,
          1.237952,
          1.2670839999999999,
          1.296,
          1.3246759999999997,
          1.353088,
          1.381212,
          1.409024,
          1.4365,
          1.463616,
          1.490348,
          1.5166720000000002,
          1.542564,
          1.568,
          1.592956,
          1.617408,
          1.6413319999999998,
          1.664704,
          1.6875,
          1.709696,
          1.731268,
          1.752192,
          1.7724440000000001,
          1.7920000000000003,
          1.8108360000000001,
          1.8289279999999999,
          1.846252,
          1.8627839999999998,
          1.8784999999999998,
          1.893376,
          1.907388,
          1.920512,
          1.932724,
          1.9440000000000002,
          1.954316,
          1.9636479999999998,
          1.971972,
          1.979264,
          1.9855,
          1.990656,
          1.9947080000000001,
          1.9976319999999999,
          1.9994040000000002,
          2
         ],
         "z": [
          0,
          0.000447,
          0.0017760000000000005,
          0.003969,
          0.0070079999999999995,
          0.010875000000000003,
          0.015551999999999998,
          0.021021,
          0.027264000000000007,
          0.034263,
          0.04200000000000001,
          0.050457,
          0.059616,
          0.06945900000000002,
          0.07996800000000001,
          0.091125,
          0.10291199999999999,
          0.11531100000000002,
          0.128304,
          0.14187300000000003,
          0.15600000000000006,
          0.17066699999999999,
          0.18585599999999997,
          0.201549,
          0.217728,
          0.234375,
          0.25147200000000003,
          0.269001,
          0.28694400000000003,
          0.3052829999999999,
          0.32399999999999995,
          0.343077,
          0.36249600000000004,
          0.382239,
          0.40228800000000003,
          0.42262500000000003,
          0.443232,
          0.464091,
          0.485184,
          0.506493,
          0.528,
          0.549687,
          0.5715359999999999,
          0.5935290000000001,
          0.6156480000000001,
          0.6378750000000002,
          0.6601920000000001,
          0.6825810000000001,
          0.7050240000000001,
          0.7275029999999999,
          0.75,
          0.772497,
          0.7949760000000001,
          0.817419,
          0.8398080000000001,
          0.8621250000000003,
          0.884352,
          0.906471,
          0.9284639999999998,
          0.9503129999999999,
          0.9720000000000001,
          0.9935069999999999,
          1.014816,
          1.0359090000000002,
          1.0567680000000002,
          1.077375,
          1.097712,
          1.117761,
          1.137504,
          1.1569230000000001,
          1.1760000000000002,
          1.194717,
          1.213056,
          1.2309989999999997,
          1.2485279999999999,
          1.265625,
          1.282272,
          1.298451,
          1.3141440000000002,
          1.329333,
          1.3440000000000003,
          1.358127,
          1.371696,
          1.384689,
          1.3970879999999999,
          1.4088749999999999,
          1.420032,
          1.4305409999999998,
          1.4403839999999999,
          1.449543,
          1.4580000000000002,
          1.465737,
          1.472736,
          1.478979,
          1.484448,
          1.489125,
          1.492992,
          1.496031,
          1.498224,
          1.4995530000000001,
          1.5
         ]
        }
       ],
       "layout": {
        "height": 600,
        "legend": {
         "tracegroupgap": 0
        },
        "scene": {
         "aspectmode": "auto",
         "aspectratio": {
          "x": 1.4422495703074085,
          "y": 0.9614997135382722,
          "z": 0.7211247851537043
         },
         "domain": {
          "x": [
           0,
           1
          ],
          "y": [
           0,
           1
          ]
         },
         "xaxis": {
          "title": {
           "text": "x"
          },
          "type": "linear"
         },
         "yaxis": {
          "title": {
           "text": "y"
          },
          "type": "linear"
         },
         "zaxis": {
          "title": {
           "text": "z"
          },
          "type": "linear"
         }
        },
        "template": {
         "data": {
          "bar": [
           {
            "error_x": {
             "color": "#2a3f5f"
            },
            "error_y": {
             "color": "#2a3f5f"
            },
            "marker": {
             "line": {
              "color": "#E5ECF6",
              "width": 0.5
             },
             "pattern": {
              "fillmode": "overlay",
              "size": 10,
              "solidity": 0.2
             }
            },
            "type": "bar"
           }
          ],
          "barpolar": [
           {
            "marker": {
             "line": {
              "color": "#E5ECF6",
              "width": 0.5
             },
             "pattern": {
              "fillmode": "overlay",
              "size": 10,
              "solidity": 0.2
             }
            },
            "type": "barpolar"
           }
          ],
          "carpet": [
           {
            "aaxis": {
             "endlinecolor": "#2a3f5f",
             "gridcolor": "white",
             "linecolor": "white",
             "minorgridcolor": "white",
             "startlinecolor": "#2a3f5f"
            },
            "baxis": {
             "endlinecolor": "#2a3f5f",
             "gridcolor": "white",
             "linecolor": "white",
             "minorgridcolor": "white",
             "startlinecolor": "#2a3f5f"
            },
            "type": "carpet"
           }
          ],
          "choropleth": [
           {
            "colorbar": {
             "outlinewidth": 0,
             "ticks": ""
            },
            "type": "choropleth"
           }
          ],
          "contour": [
           {
            "colorbar": {
             "outlinewidth": 0,
             "ticks": ""
            },
            "colorscale": [
             [
              0,
              "#0d0887"
             ],
             [
              0.1111111111111111,
              "#46039f"
             ],
             [
              0.2222222222222222,
              "#7201a8"
             ],
             [
              0.3333333333333333,
              "#9c179e"
             ],
             [
              0.4444444444444444,
              "#bd3786"
             ],
             [
              0.5555555555555556,
              "#d8576b"
             ],
             [
              0.6666666666666666,
              "#ed7953"
             ],
             [
              0.7777777777777778,
              "#fb9f3a"
             ],
             [
              0.8888888888888888,
              "#fdca26"
             ],
             [
              1,
              "#f0f921"
             ]
            ],
            "type": "contour"
           }
          ],
          "contourcarpet": [
           {
            "colorbar": {
             "outlinewidth": 0,
             "ticks": ""
            },
            "type": "contourcarpet"
           }
          ],
          "heatmap": [
           {
            "colorbar": {
             "outlinewidth": 0,
             "ticks": ""
            },
            "colorscale": [
             [
              0,
              "#0d0887"
             ],
             [
              0.1111111111111111,
              "#46039f"
             ],
             [
              0.2222222222222222,
              "#7201a8"
             ],
             [
              0.3333333333333333,
              "#9c179e"
             ],
             [
              0.4444444444444444,
              "#bd3786"
             ],
             [
              0.5555555555555556,
              "#d8576b"
             ],
             [
              0.6666666666666666,
              "#ed7953"
             ],
             [
              0.7777777777777778,
              "#fb9f3a"
             ],
             [
              0.8888888888888888,
              "#fdca26"
             ],
             [
              1,
              "#f0f921"
             ]
            ],
            "type": "heatmap"
           }
          ],
          "heatmapgl": [
           {
            "colorbar": {
             "outlinewidth": 0,
             "ticks": ""
            },
            "colorscale": [
             [
              0,
              "#0d0887"
             ],
             [
              0.1111111111111111,
              "#46039f"
             ],
             [
              0.2222222222222222,
              "#7201a8"
             ],
             [
              0.3333333333333333,
              "#9c179e"
             ],
             [
              0.4444444444444444,
              "#bd3786"
             ],
             [
              0.5555555555555556,
              "#d8576b"
             ],
             [
              0.6666666666666666,
              "#ed7953"
             ],
             [
              0.7777777777777778,
              "#fb9f3a"
             ],
             [
              0.8888888888888888,
              "#fdca26"
             ],
             [
              1,
              "#f0f921"
             ]
            ],
            "type": "heatmapgl"
           }
          ],
          "histogram": [
           {
            "marker": {
             "pattern": {
              "fillmode": "overlay",
              "size": 10,
              "solidity": 0.2
             }
            },
            "type": "histogram"
           }
          ],
          "histogram2d": [
           {
            "colorbar": {
             "outlinewidth": 0,
             "ticks": ""
            },
            "colorscale": [
             [
              0,
              "#0d0887"
             ],
             [
              0.1111111111111111,
              "#46039f"
             ],
             [
              0.2222222222222222,
              "#7201a8"
             ],
             [
              0.3333333333333333,
              "#9c179e"
             ],
             [
              0.4444444444444444,
              "#bd3786"
             ],
             [
              0.5555555555555556,
              "#d8576b"
             ],
             [
              0.6666666666666666,
              "#ed7953"
             ],
             [
              0.7777777777777778,
              "#fb9f3a"
             ],
             [
              0.8888888888888888,
              "#fdca26"
             ],
             [
              1,
              "#f0f921"
             ]
            ],
            "type": "histogram2d"
           }
          ],
          "histogram2dcontour": [
           {
            "colorbar": {
             "outlinewidth": 0,
             "ticks": ""
            },
            "colorscale": [
             [
              0,
              "#0d0887"
             ],
             [
              0.1111111111111111,
              "#46039f"
             ],
             [
              0.2222222222222222,
              "#7201a8"
             ],
             [
              0.3333333333333333,
              "#9c179e"
             ],
             [
              0.4444444444444444,
              "#bd3786"
             ],
             [
              0.5555555555555556,
              "#d8576b"
             ],
             [
              0.6666666666666666,
              "#ed7953"
             ],
             [
              0.7777777777777778,
              "#fb9f3a"
             ],
             [
              0.8888888888888888,
              "#fdca26"
             ],
             [
              1,
              "#f0f921"
             ]
            ],
            "type": "histogram2dcontour"
           }
          ],
          "mesh3d": [
           {
            "colorbar": {
             "outlinewidth": 0,
             "ticks": ""
            },
            "type": "mesh3d"
           }
          ],
          "parcoords": [
           {
            "line": {
             "colorbar": {
              "outlinewidth": 0,
              "ticks": ""
             }
            },
            "type": "parcoords"
           }
          ],
          "pie": [
           {
            "automargin": true,
            "type": "pie"
           }
          ],
          "scatter": [
           {
            "fillpattern": {
             "fillmode": "overlay",
             "size": 10,
             "solidity": 0.2
            },
            "type": "scatter"
           }
          ],
          "scatter3d": [
           {
            "line": {
             "colorbar": {
              "outlinewidth": 0,
              "ticks": ""
             }
            },
            "marker": {
             "colorbar": {
              "outlinewidth": 0,
              "ticks": ""
             }
            },
            "type": "scatter3d"
           }
          ],
          "scattercarpet": [
           {
            "marker": {
             "colorbar": {
              "outlinewidth": 0,
              "ticks": ""
             }
            },
            "type": "scattercarpet"
           }
          ],
          "scattergeo": [
           {
            "marker": {
             "colorbar": {
              "outlinewidth": 0,
              "ticks": ""
             }
            },
            "type": "scattergeo"
           }
          ],
          "scattergl": [
           {
            "marker": {
             "colorbar": {
              "outlinewidth": 0,
              "ticks": ""
             }
            },
            "type": "scattergl"
           }
          ],
          "scattermapbox": [
           {
            "marker": {
             "colorbar": {
              "outlinewidth": 0,
              "ticks": ""
             }
            },
            "type": "scattermapbox"
           }
          ],
          "scatterpolar": [
           {
            "marker": {
             "colorbar": {
              "outlinewidth": 0,
              "ticks": ""
             }
            },
            "type": "scatterpolar"
           }
          ],
          "scatterpolargl": [
           {
            "marker": {
             "colorbar": {
              "outlinewidth": 0,
              "ticks": ""
             }
            },
            "type": "scatterpolargl"
           }
          ],
          "scatterternary": [
           {
            "marker": {
             "colorbar": {
              "outlinewidth": 0,
              "ticks": ""
             }
            },
            "type": "scatterternary"
           }
          ],
          "surface": [
           {
            "colorbar": {
             "outlinewidth": 0,
             "ticks": ""
            },
            "colorscale": [
             [
              0,
              "#0d0887"
             ],
             [
              0.1111111111111111,
              "#46039f"
             ],
             [
              0.2222222222222222,
              "#7201a8"
             ],
             [
              0.3333333333333333,
              "#9c179e"
             ],
             [
              0.4444444444444444,
              "#bd3786"
             ],
             [
              0.5555555555555556,
              "#d8576b"
             ],
             [
              0.6666666666666666,
              "#ed7953"
             ],
             [
              0.7777777777777778,
              "#fb9f3a"
             ],
             [
              0.8888888888888888,
              "#fdca26"
             ],
             [
              1,
              "#f0f921"
             ]
            ],
            "type": "surface"
           }
          ],
          "table": [
           {
            "cells": {
             "fill": {
              "color": "#EBF0F8"
             },
             "line": {
              "color": "white"
             }
            },
            "header": {
             "fill": {
              "color": "#C8D4E3"
             },
             "line": {
              "color": "white"
             }
            },
            "type": "table"
           }
          ]
         },
         "layout": {
          "annotationdefaults": {
           "arrowcolor": "#2a3f5f",
           "arrowhead": 0,
           "arrowwidth": 1
          },
          "autotypenumbers": "strict",
          "coloraxis": {
           "colorbar": {
            "outlinewidth": 0,
            "ticks": ""
           }
          },
          "colorscale": {
           "diverging": [
            [
             0,
             "#8e0152"
            ],
            [
             0.1,
             "#c51b7d"
            ],
            [
             0.2,
             "#de77ae"
            ],
            [
             0.3,
             "#f1b6da"
            ],
            [
             0.4,
             "#fde0ef"
            ],
            [
             0.5,
             "#f7f7f7"
            ],
            [
             0.6,
             "#e6f5d0"
            ],
            [
             0.7,
             "#b8e186"
            ],
            [
             0.8,
             "#7fbc41"
            ],
            [
             0.9,
             "#4d9221"
            ],
            [
             1,
             "#276419"
            ]
           ],
           "sequential": [
            [
             0,
             "#0d0887"
            ],
            [
             0.1111111111111111,
             "#46039f"
            ],
            [
             0.2222222222222222,
             "#7201a8"
            ],
            [
             0.3333333333333333,
             "#9c179e"
            ],
            [
             0.4444444444444444,
             "#bd3786"
            ],
            [
             0.5555555555555556,
             "#d8576b"
            ],
            [
             0.6666666666666666,
             "#ed7953"
            ],
            [
             0.7777777777777778,
             "#fb9f3a"
            ],
            [
             0.8888888888888888,
             "#fdca26"
            ],
            [
             1,
             "#f0f921"
            ]
           ],
           "sequentialminus": [
            [
             0,
             "#0d0887"
            ],
            [
             0.1111111111111111,
             "#46039f"
            ],
            [
             0.2222222222222222,
             "#7201a8"
            ],
            [
             0.3333333333333333,
             "#9c179e"
            ],
            [
             0.4444444444444444,
             "#bd3786"
            ],
            [
             0.5555555555555556,
             "#d8576b"
            ],
            [
             0.6666666666666666,
             "#ed7953"
            ],
            [
             0.7777777777777778,
             "#fb9f3a"
            ],
            [
             0.8888888888888888,
             "#fdca26"
            ],
            [
             1,
             "#f0f921"
            ]
           ]
          },
          "colorway": [
           "#636efa",
           "#EF553B",
           "#00cc96",
           "#ab63fa",
           "#FFA15A",
           "#19d3f3",
           "#FF6692",
           "#B6E880",
           "#FF97FF",
           "#FECB52"
          ],
          "font": {
           "color": "#2a3f5f"
          },
          "geo": {
           "bgcolor": "white",
           "lakecolor": "white",
           "landcolor": "#E5ECF6",
           "showlakes": true,
           "showland": true,
           "subunitcolor": "white"
          },
          "hoverlabel": {
           "align": "left"
          },
          "hovermode": "closest",
          "mapbox": {
           "style": "light"
          },
          "paper_bgcolor": "white",
          "plot_bgcolor": "#E5ECF6",
          "polar": {
           "angularaxis": {
            "gridcolor": "white",
            "linecolor": "white",
            "ticks": ""
           },
           "bgcolor": "#E5ECF6",
           "radialaxis": {
            "gridcolor": "white",
            "linecolor": "white",
            "ticks": ""
           }
          },
          "scene": {
           "xaxis": {
            "backgroundcolor": "#E5ECF6",
            "gridcolor": "white",
            "gridwidth": 2,
            "linecolor": "white",
            "showbackground": true,
            "ticks": "",
            "zerolinecolor": "white"
           },
           "yaxis": {
            "backgroundcolor": "#E5ECF6",
            "gridcolor": "white",
            "gridwidth": 2,
            "linecolor": "white",
            "showbackground": true,
            "ticks": "",
            "zerolinecolor": "white"
           },
           "zaxis": {
            "backgroundcolor": "#E5ECF6",
            "gridcolor": "white",
            "gridwidth": 2,
            "linecolor": "white",
            "showbackground": true,
            "ticks": "",
            "zerolinecolor": "white"
           }
          },
          "shapedefaults": {
           "line": {
            "color": "#2a3f5f"
           }
          },
          "ternary": {
           "aaxis": {
            "gridcolor": "white",
            "linecolor": "white",
            "ticks": ""
           },
           "baxis": {
            "gridcolor": "white",
            "linecolor": "white",
            "ticks": ""
           },
           "bgcolor": "#E5ECF6",
           "caxis": {
            "gridcolor": "white",
            "linecolor": "white",
            "ticks": ""
           }
          },
          "title": {
           "x": 0.05
          },
          "xaxis": {
           "automargin": true,
           "gridcolor": "white",
           "linecolor": "white",
           "ticks": "",
           "title": {
            "standoff": 15
           },
           "zerolinecolor": "white",
           "zerolinewidth": 2
          },
          "yaxis": {
           "automargin": true,
           "gridcolor": "white",
           "linecolor": "white",
           "ticks": "",
           "title": {
            "standoff": 15
           },
           "zerolinecolor": "white",
           "zerolinewidth": 2
          }
         }
        },
        "title": {
         "text": "Cubic Bezier Curve"
        },
        "width": 700
       }
      },
      "image/png": "[encoded data removed]",
      "text/html": [
       "<div>                            <div id=\"c6750523-6e39-4e56-8358-68f030b2b2e4\" class=\"plotly-graph-div\" style=\"height:600px; width:700px;\"></div>            <script type=\"text/javascript\">                require([\"plotly\"], function(Plotly) {                    window.PLOTLYENV=window.PLOTLYENV || {};                                    if (document.getElementById(\"c6750523-6e39-4e56-8358-68f030b2b2e4\")) {                    Plotly.newPlot(                        \"c6750523-6e39-4e56-8358-68f030b2b2e4\",                        [{\"hovertemplate\":\"x=%{x}<br>y=%{y}<br>z=%{z}<extra></extra>\",\"legendgroup\":\"\",\"line\":{\"color\":\"#636efa\",\"dash\":\"solid\"},\"marker\":{\"symbol\":\"circle\"},\"mode\":\"lines\",\"name\":\"\",\"scene\":\"scene\",\"showlegend\":false,\"x\":[0.0,0.049404,0.097632,0.14470799999999998,0.19065600000000002,0.23550000000000004,0.27926399999999996,0.32197200000000004,0.363648,0.40431600000000006,0.44400000000000006,0.4827240000000001,0.520512,0.5573880000000001,0.5933760000000001,0.6285,0.6627839999999998,0.6962520000000001,0.7289280000000001,0.7608360000000002,0.7920000000000003,0.8224440000000001,0.8521920000000001,0.881268,0.9096959999999998,0.9375,0.9647040000000001,0.9913319999999999,1.017408,1.0429559999999998,1.0679999999999998,1.0925639999999996,1.1166719999999997,1.140348,1.1636159999999998,1.1864999999999997,1.2090239999999999,1.231212,1.2530880000000002,1.2746759999999997,1.2960000000000003,1.317084,1.3379520000000003,1.3586280000000004,1.3791360000000001,1.3995000000000002,1.4197440000000001,1.4398920000000002,1.459968,1.4799959999999999,1.5,1.520004,1.540032,1.560108,1.5802559999999999,1.6005000000000003,1.620864,1.641372,1.6620479999999997,1.6829159999999999,1.704,1.725324,1.746912,1.7687880000000002,1.7909760000000001,1.8135,1.8363840000000002,1.859652,1.883328,1.9074360000000001,1.9320000000000002,1.957044,1.982592,2.0086679999999997,2.0352959999999998,2.0625,2.090304,2.1187319999999996,2.147808,2.177556,2.208,2.2391639999999997,2.271072,2.303748,2.3372159999999997,2.3714999999999997,2.406624,2.4426119999999996,2.479488,2.517276,2.556,2.5956840000000003,2.636352,2.6780280000000003,2.720736,2.7645000000000004,2.809344,2.855292,2.9023679999999996,2.9505960000000004,3.0],\"y\":[0.0,0.0005960000000000001,0.0023680000000000003,0.005292000000000001,0.009344,0.014500000000000002,0.020735999999999997,0.028028,0.036352,0.045684,0.056000000000000015,0.067276,0.079488,0.09261200000000001,0.10662400000000001,0.1215,0.137216,0.15374800000000002,0.171072,0.18916400000000003,0.20800000000000007,0.22755599999999998,0.247808,0.268732,0.290304,0.3125,0.33529600000000004,0.358668,0.382592,0.4070439999999999,0.432,0.45743599999999995,0.483328,0.509652,0.536384,0.5635,0.590976,0.618788,0.6469119999999999,0.675324,0.7040000000000001,0.7329160000000001,0.762048,0.7913720000000001,0.820864,0.8505000000000001,0.8802560000000001,0.9101080000000001,0.940032,0.970004,1.0,1.0299960000000001,1.059968,1.089892,1.119744,1.1495000000000002,1.1791360000000002,1.208628,1.237952,1.2670839999999999,1.296,1.3246759999999997,1.353088,1.381212,1.409024,1.4365,1.463616,1.490348,1.5166720000000002,1.542564,1.568,1.592956,1.617408,1.6413319999999998,1.664704,1.6875,1.709696,1.731268,1.752192,1.7724440000000001,1.7920000000000003,1.8108360000000001,1.8289279999999999,1.846252,1.8627839999999998,1.8784999999999998,1.893376,1.907388,1.920512,1.932724,1.9440000000000002,1.954316,1.9636479999999998,1.971972,1.979264,1.9855,1.990656,1.9947080000000001,1.9976319999999999,1.9994040000000002,2.0],\"z\":[0.0,0.000447,0.0017760000000000005,0.003969,0.0070079999999999995,0.010875000000000003,0.015551999999999998,0.021021,0.027264000000000007,0.034263,0.04200000000000001,0.050457,0.059616,0.06945900000000002,0.07996800000000001,0.091125,0.10291199999999999,0.11531100000000002,0.128304,0.14187300000000003,0.15600000000000006,0.17066699999999999,0.18585599999999997,0.201549,0.217728,0.234375,0.25147200000000003,0.269001,0.28694400000000003,0.3052829999999999,0.32399999999999995,0.343077,0.36249600000000004,0.382239,0.40228800000000003,0.42262500000000003,0.443232,0.464091,0.485184,0.506493,0.528,0.549687,0.5715359999999999,0.5935290000000001,0.6156480000000001,0.6378750000000002,0.6601920000000001,0.6825810000000001,0.7050240000000001,0.7275029999999999,0.75,0.772497,0.7949760000000001,0.817419,0.8398080000000001,0.8621250000000003,0.884352,0.906471,0.9284639999999998,0.9503129999999999,0.9720000000000001,0.9935069999999999,1.014816,1.0359090000000002,1.0567680000000002,1.077375,1.097712,1.117761,1.137504,1.1569230000000001,1.1760000000000002,1.194717,1.213056,1.2309989999999997,1.2485279999999999,1.265625,1.282272,1.298451,1.3141440000000002,1.329333,1.3440000000000003,1.358127,1.371696,1.384689,1.3970879999999999,1.4088749999999999,1.420032,1.4305409999999998,1.4403839999999999,1.449543,1.4580000000000002,1.465737,1.472736,1.478979,1.484448,1.489125,1.492992,1.496031,1.498224,1.4995530000000001,1.5],\"type\":\"scatter3d\"}],                        {\"template\":{\"data\":{\"histogram2dcontour\":[{\"type\":\"histogram2dcontour\",\"colorbar\":{\"outlinewidth\":0,\"ticks\":\"\"},\"colorscale\":[[0.0,\"#0d0887\"],[0.1111111111111111,\"#46039f\"],[0.2222222222222222,\"#7201a8\"],[0.3333333333333333,\"#9c179e\"],[0.4444444444444444,\"#bd3786\"],[0.5555555555555556,\"#d8576b\"],[0.6666666666666666,\"#ed7953\"],[0.7777777777777778,\"#fb9f3a\"],[0.8888888888888888,\"#fdca26\"],[1.0,\"#f0f921\"]]}],\"choropleth\":[{\"type\":\"choropleth\",\"colorbar\":{\"outlinewidth\":0,\"ticks\":\"\"}}],\"histogram2d\":[{\"type\":\"histogram2d\",\"colorbar\":{\"outlinewidth\":0,\"ticks\":\"\"},\"colorscale\":[[0.0,\"#0d0887\"],[0.1111111111111111,\"#46039f\"],[0.2222222222222222,\"#7201a8\"],[0.3333333333333333,\"#9c179e\"],[0.4444444444444444,\"#bd3786\"],[0.5555555555555556,\"#d8576b\"],[0.6666666666666666,\"#ed7953\"],[0.7777777777777778,\"#fb9f3a\"],[0.8888888888888888,\"#fdca26\"],[1.0,\"#f0f921\"]]}],\"heatmap\":[{\"type\":\"heatmap\",\"colorbar\":{\"outlinewidth\":0,\"ticks\":\"\"},\"colorscale\":[[0.0,\"#0d0887\"],[0.1111111111111111,\"#46039f\"],[0.2222222222222222,\"#7201a8\"],[0.3333333333333333,\"#9c179e\"],[0.4444444444444444,\"#bd3786\"],[0.5555555555555556,\"#d8576b\"],[0.6666666666666666,\"#ed7953\"],[0.7777777777777778,\"#fb9f3a\"],[0.8888888888888888,\"#fdca26\"],[1.0,\"#f0f921\"]]}],\"heatmapgl\":[{\"type\":\"heatmapgl\",\"colorbar\":{\"outlinewidth\":0,\"ticks\":\"\"},\"colorscale\":[[0.0,\"#0d0887\"],[0.1111111111111111,\"#46039f\"],[0.2222222222222222,\"#7201a8\"],[0.3333333333333333,\"#9c179e\"],[0.4444444444444444,\"#bd3786\"],[0.5555555555555556,\"#d8576b\"],[0.6666666666666666,\"#ed7953\"],[0.7777777777777778,\"#fb9f3a\"],[0.8888888888888888,\"#fdca26\"],[1.0,\"#f0f921\"]]}],\"contourcarpet\":[{\"type\":\"contourcarpet\",\"colorbar\":{\"outlinewidth\":0,\"ticks\":\"\"}}],\"contour\":[{\"type\":\"contour\",\"colorbar\":{\"outlinewidth\":0,\"ticks\":\"\"},\"colorscale\":[[0.0,\"#0d0887\"],[0.1111111111111111,\"#46039f\"],[0.2222222222222222,\"#7201a8\"],[0.3333333333333333,\"#9c179e\"],[0.4444444444444444,\"#bd3786\"],[0.5555555555555556,\"#d8576b\"],[0.6666666666666666,\"#ed7953\"],[0.7777777777777778,\"#fb9f3a\"],[0.8888888888888888,\"#fdca26\"],[1.0,\"#f0f921\"]]}],\"surface\":[{\"type\":\"surface\",\"colorbar\":{\"outlinewidth\":0,\"ticks\":\"\"},\"colorscale\":[[0.0,\"#0d0887\"],[0.1111111111111111,\"#46039f\"],[0.2222222222222222,\"#7201a8\"],[0.3333333333333333,\"#9c179e\"],[0.4444444444444444,\"#bd3786\"],[0.5555555555555556,\"#d8576b\"],[0.6666666666666666,\"#ed7953\"],[0.7777777777777778,\"#fb9f3a\"],[0.8888888888888888,\"#fdca26\"],[1.0,\"#f0f921\"]]}],\"mesh3d\":[{\"type\":\"mesh3d\",\"colorbar\":{\"outlinewidth\":0,\"ticks\":\"\"}}],\"scatter\":[{\"fillpattern\":{\"fillmode\":\"overlay\",\"size\":10,\"solidity\":0.2},\"type\":\"scatter\"}],\"parcoords\":[{\"type\":\"parcoords\",\"line\":{\"colorbar\":{\"outlinewidth\":0,\"ticks\":\"\"}}}],\"scatterpolargl\":[{\"type\":\"scatterpolargl\",\"marker\":{\"colorbar\":{\"outlinewidth\":0,\"ticks\":\"\"}}}],\"bar\":[{\"error_x\":{\"color\":\"#2a3f5f\"},\"error_y\":{\"color\":\"#2a3f5f\"},\"marker\":{\"line\":{\"color\":\"#E5ECF6\",\"width\":0.5},\"pattern\":{\"fillmode\":\"overlay\",\"size\":10,\"solidity\":0.2}},\"type\":\"bar\"}],\"scattergeo\":[{\"type\":\"scattergeo\",\"marker\":{\"colorbar\":{\"outlinewidth\":0,\"ticks\":\"\"}}}],\"scatterpolar\":[{\"type\":\"scatterpolar\",\"marker\":{\"colorbar\":{\"outlinewidth\":0,\"ticks\":\"\"}}}],\"histogram\":[{\"marker\":{\"pattern\":{\"fillmode\":\"overlay\",\"size\":10,\"solidity\":0.2}},\"type\":\"histogram\"}],\"scattergl\":[{\"type\":\"scattergl\",\"marker\":{\"colorbar\":{\"outlinewidth\":0,\"ticks\":\"\"}}}],\"scatter3d\":[{\"type\":\"scatter3d\",\"line\":{\"colorbar\":{\"outlinewidth\":0,\"ticks\":\"\"}},\"marker\":{\"colorbar\":{\"outlinewidth\":0,\"ticks\":\"\"}}}],\"scattermapbox\":[{\"type\":\"scattermapbox\",\"marker\":{\"colorbar\":{\"outlinewidth\":0,\"ticks\":\"\"}}}],\"scatterternary\":[{\"type\":\"scatterternary\",\"marker\":{\"colorbar\":{\"outlinewidth\":0,\"ticks\":\"\"}}}],\"scattercarpet\":[{\"type\":\"scattercarpet\",\"marker\":{\"colorbar\":{\"outlinewidth\":0,\"ticks\":\"\"}}}],\"carpet\":[{\"aaxis\":{\"endlinecolor\":\"#2a3f5f\",\"gridcolor\":\"white\",\"linecolor\":\"white\",\"minorgridcolor\":\"white\",\"startlinecolor\":\"#2a3f5f\"},\"baxis\":{\"endlinecolor\":\"#2a3f5f\",\"gridcolor\":\"white\",\"linecolor\":\"white\",\"minorgridcolor\":\"white\",\"startlinecolor\":\"#2a3f5f\"},\"type\":\"carpet\"}],\"table\":[{\"cells\":{\"fill\":{\"color\":\"#EBF0F8\"},\"line\":{\"color\":\"white\"}},\"header\":{\"fill\":{\"color\":\"#C8D4E3\"},\"line\":{\"color\":\"white\"}},\"type\":\"table\"}],\"barpolar\":[{\"marker\":{\"line\":{\"color\":\"#E5ECF6\",\"width\":0.5},\"pattern\":{\"fillmode\":\"overlay\",\"size\":10,\"solidity\":0.2}},\"type\":\"barpolar\"}],\"pie\":[{\"automargin\":true,\"type\":\"pie\"}]},\"layout\":{\"autotypenumbers\":\"strict\",\"colorway\":[\"#636efa\",\"#EF553B\",\"#00cc96\",\"#ab63fa\",\"#FFA15A\",\"#19d3f3\",\"#FF6692\",\"#B6E880\",\"#FF97FF\",\"#FECB52\"],\"font\":{\"color\":\"#2a3f5f\"},\"hovermode\":\"closest\",\"hoverlabel\":{\"align\":\"left\"},\"paper_bgcolor\":\"white\",\"plot_bgcolor\":\"#E5ECF6\",\"polar\":{\"bgcolor\":\"#E5ECF6\",\"angularaxis\":{\"gridcolor\":\"white\",\"linecolor\":\"white\",\"ticks\":\"\"},\"radialaxis\":{\"gridcolor\":\"white\",\"linecolor\":\"white\",\"ticks\":\"\"}},\"ternary\":{\"bgcolor\":\"#E5ECF6\",\"aaxis\":{\"gridcolor\":\"white\",\"linecolor\":\"white\",\"ticks\":\"\"},\"baxis\":{\"gridcolor\":\"white\",\"linecolor\":\"white\",\"ticks\":\"\"},\"caxis\":{\"gridcolor\":\"white\",\"linecolor\":\"white\",\"ticks\":\"\"}},\"coloraxis\":{\"colorbar\":{\"outlinewidth\":0,\"ticks\":\"\"}},\"colorscale\":{\"sequential\":[[0.0,\"#0d0887\"],[0.1111111111111111,\"#46039f\"],[0.2222222222222222,\"#7201a8\"],[0.3333333333333333,\"#9c179e\"],[0.4444444444444444,\"#bd3786\"],[0.5555555555555556,\"#d8576b\"],[0.6666666666666666,\"#ed7953\"],[0.7777777777777778,\"#fb9f3a\"],[0.8888888888888888,\"#fdca26\"],[1.0,\"#f0f921\"]],\"sequentialminus\":[[0.0,\"#0d0887\"],[0.1111111111111111,\"#46039f\"],[0.2222222222222222,\"#7201a8\"],[0.3333333333333333,\"#9c179e\"],[0.4444444444444444,\"#bd3786\"],[0.5555555555555556,\"#d8576b\"],[0.6666666666666666,\"#ed7953\"],[0.7777777777777778,\"#fb9f3a\"],[0.8888888888888888,\"#fdca26\"],[1.0,\"#f0f921\"]],\"diverging\":[[0,\"#8e0152\"],[0.1,\"#c51b7d\"],[0.2,\"#de77ae\"],[0.3,\"#f1b6da\"],[0.4,\"#fde0ef\"],[0.5,\"#f7f7f7\"],[0.6,\"#e6f5d0\"],[0.7,\"#b8e186\"],[0.8,\"#7fbc41\"],[0.9,\"#4d9221\"],[1,\"#276419\"]]},\"xaxis\":{\"gridcolor\":\"white\",\"linecolor\":\"white\",\"ticks\":\"\",\"title\":{\"standoff\":15},\"zerolinecolor\":\"white\",\"automargin\":true,\"zerolinewidth\":2},\"yaxis\":{\"gridcolor\":\"white\",\"linecolor\":\"white\",\"ticks\":\"\",\"title\":{\"standoff\":15},\"zerolinecolor\":\"white\",\"automargin\":true,\"zerolinewidth\":2},\"scene\":{\"xaxis\":{\"backgroundcolor\":\"#E5ECF6\",\"gridcolor\":\"white\",\"linecolor\":\"white\",\"showbackground\":true,\"ticks\":\"\",\"zerolinecolor\":\"white\",\"gridwidth\":2},\"yaxis\":{\"backgroundcolor\":\"#E5ECF6\",\"gridcolor\":\"white\",\"linecolor\":\"white\",\"showbackground\":true,\"ticks\":\"\",\"zerolinecolor\":\"white\",\"gridwidth\":2},\"zaxis\":{\"backgroundcolor\":\"#E5ECF6\",\"gridcolor\":\"white\",\"linecolor\":\"white\",\"showbackground\":true,\"ticks\":\"\",\"zerolinecolor\":\"white\",\"gridwidth\":2}},\"shapedefaults\":{\"line\":{\"color\":\"#2a3f5f\"}},\"annotationdefaults\":{\"arrowcolor\":\"#2a3f5f\",\"arrowhead\":0,\"arrowwidth\":1},\"geo\":{\"bgcolor\":\"white\",\"landcolor\":\"#E5ECF6\",\"subunitcolor\":\"white\",\"showland\":true,\"showlakes\":true,\"lakecolor\":\"white\"},\"title\":{\"x\":0.05},\"mapbox\":{\"style\":\"light\"}}},\"scene\":{\"domain\":{\"x\":[0.0,1.0],\"y\":[0.0,1.0]},\"xaxis\":{\"title\":{\"text\":\"x\"}},\"yaxis\":{\"title\":{\"text\":\"y\"}},\"zaxis\":{\"title\":{\"text\":\"z\"}}},\"legend\":{\"tracegroupgap\":0},\"title\":{\"text\":\"Cubic Bezier Curve\"},\"height\":600,\"width\":700},                        {\"responsive\": true}                    ).then(function(){\n",
       "                            \n",
       "var gd = document.getElementById('c6750523-6e39-4e56-8358-68f030b2b2e4');\n",
       "var x = new MutationObserver(function (mutations, observer) {{\n",
       "        var display = window.getComputedStyle(gd).display;\n",
       "        if (!display || display === 'none') {{\n",
       "            console.log([gd, 'removed!']);\n",
       "            Plotly.purge(gd);\n",
       "            observer.disconnect();\n",
       "        }}\n",
       "}});\n",
       "\n",
       "// Listen for the removal of the full notebook cells\n",
       "var notebookContainer = gd.closest('#notebook-container');\n",
       "if (notebookContainer) {{\n",
       "    x.observe(notebookContainer, {childList: true});\n",
       "}}\n",
       "\n",
       "// Listen for the clearing of the current output cell\n",
       "var outputEl = gd.closest('.output');\n",
       "if (outputEl) {{\n",
       "    x.observe(outputEl, {childList: true});\n",
       "}}\n",
       "\n",
       "                        })                };                });            </script>        </div>"
      ]
     },
     "metadata": {},
     "output_type": "display_data"
    }
   ],
   "source": [
    "fig = px.line_3d(df, x=\"x\", y=\"y\", z=\"z\", width=700, height=600, title='Cubic Bezier Curve')\n",
    "fig.show()"
   ]
  },
  {
   "cell_type": "markdown",
   "id": "589de380-6f46-4085-bd22-50948c2a7b75",
   "metadata": {},
   "source": [
    "# 3D plot with extended API"
   ]
  },
  {
   "cell_type": "code",
   "execution_count": 10,
   "id": "46ef7dfe-d787-41b9-8838-e7142ef11e3e",
   "metadata": {},
   "outputs": [],
   "source": [
    "import plotly.graph_objects as go"
   ]
  },
  {
   "cell_type": "code",
   "execution_count": 18,
   "id": "a3852fbb-a847-43ad-9031-06f23ef971e0",
   "metadata": {},
   "outputs": [
    {
     "data": {
      "application/vnd.plotly.v1+json": {
       "config": {
        "plotlyServerURL": "https://plot.ly"
       },
       "data": [
        {
         "line": {
          "color": "darkblue",
          "width": 3
         },
         "marker": {
          "size": 10
         },
         "type": "scatter3d",
         "x": [
          0,
          0.049404,
          0.097632,
          0.14470799999999998,
          0.19065600000000002,
          0.23550000000000004,
          0.27926399999999996,
          0.32197200000000004,
          0.363648,
          0.40431600000000006,
          0.44400000000000006,
          0.4827240000000001,
          0.520512,
          0.5573880000000001,
          0.5933760000000001,
          0.6285,
          0.6627839999999998,
          0.6962520000000001,
          0.7289280000000001,
          0.7608360000000002,
          0.7920000000000003,
          0.8224440000000001,
          0.8521920000000001,
          0.881268,
          0.9096959999999998,
          0.9375,
          0.9647040000000001,
          0.9913319999999999,
          1.017408,
          1.0429559999999998,
          1.0679999999999998,
          1.0925639999999996,
          1.1166719999999997,
          1.140348,
          1.1636159999999998,
          1.1864999999999997,
          1.2090239999999999,
          1.231212,
          1.2530880000000002,
          1.2746759999999997,
          1.2960000000000003,
          1.317084,
          1.3379520000000003,
          1.3586280000000004,
          1.3791360000000001,
          1.3995000000000002,
          1.4197440000000001,
          1.4398920000000002,
          1.459968,
          1.4799959999999999,
          1.5,
          1.520004,
          1.540032,
          1.560108,
          1.5802559999999999,
          1.6005000000000003,
          1.620864,
          1.641372,
          1.6620479999999997,
          1.6829159999999999,
          1.704,
          1.725324,
          1.746912,
          1.7687880000000002,
          1.7909760000000001,
          1.8135,
          1.8363840000000002,
          1.859652,
          1.883328,
          1.9074360000000001,
          1.9320000000000002,
          1.957044,
          1.982592,
          2.0086679999999997,
          2.0352959999999998,
          2.0625,
          2.090304,
          2.1187319999999996,
          2.147808,
          2.177556,
          2.208,
          2.2391639999999997,
          2.271072,
          2.303748,
          2.3372159999999997,
          2.3714999999999997,
          2.406624,
          2.4426119999999996,
          2.479488,
          2.517276,
          2.556,
          2.5956840000000003,
          2.636352,
          2.6780280000000003,
          2.720736,
          2.7645000000000004,
          2.809344,
          2.855292,
          2.9023679999999996,
          2.9505960000000004,
          3
         ],
         "y": [
          0,
          0.0005960000000000001,
          0.0023680000000000003,
          0.005292000000000001,
          0.009344,
          0.014500000000000002,
          0.020735999999999997,
          0.028028,
          0.036352,
          0.045684,
          0.056000000000000015,
          0.067276,
          0.079488,
          0.09261200000000001,
          0.10662400000000001,
          0.1215,
          0.137216,
          0.15374800000000002,
          0.171072,
          0.18916400000000003,
          0.20800000000000007,
          0.22755599999999998,
          0.247808,
          0.268732,
          0.290304,
          0.3125,
          0.33529600000000004,
          0.358668,
          0.382592,
          0.4070439999999999,
          0.432,
          0.45743599999999995,
          0.483328,
          0.509652,
          0.536384,
          0.5635,
          0.590976,
          0.618788,
          0.6469119999999999,
          0.675324,
          0.7040000000000001,
          0.7329160000000001,
          0.762048,
          0.7913720000000001,
          0.820864,
          0.8505000000000001,
          0.8802560000000001,
          0.9101080000000001,
          0.940032,
          0.970004,
          1,
          1.0299960000000001,
          1.059968,
          1.089892,
          1.119744,
          1.1495000000000002,
          1.1791360000000002,
          1.208628,
          1.237952,
          1.2670839999999999,
          1.296,
          1.3246759999999997,
          1.353088,
          1.381212,
          1.409024,
          1.4365,
          1.463616,
          1.490348,
          1.5166720000000002,
          1.542564,
          1.568,
          1.592956,
          1.617408,
          1.6413319999999998,
          1.664704,
          1.6875,
          1.709696,
          1.731268,
          1.752192,
          1.7724440000000001,
          1.7920000000000003,
          1.8108360000000001,
          1.8289279999999999,
          1.846252,
          1.8627839999999998,
          1.8784999999999998,
          1.893376,
          1.907388,
          1.920512,
          1.932724,
          1.9440000000000002,
          1.954316,
          1.9636479999999998,
          1.971972,
          1.979264,
          1.9855,
          1.990656,
          1.9947080000000001,
          1.9976319999999999,
          1.9994040000000002,
          2
         ],
         "z": [
          0,
          0.000447,
          0.0017760000000000005,
          0.003969,
          0.0070079999999999995,
          0.010875000000000003,
          0.015551999999999998,
          0.021021,
          0.027264000000000007,
          0.034263,
          0.04200000000000001,
          0.050457,
          0.059616,
          0.06945900000000002,
          0.07996800000000001,
          0.091125,
          0.10291199999999999,
          0.11531100000000002,
          0.128304,
          0.14187300000000003,
          0.15600000000000006,
          0.17066699999999999,
          0.18585599999999997,
          0.201549,
          0.217728,
          0.234375,
          0.25147200000000003,
          0.269001,
          0.28694400000000003,
          0.3052829999999999,
          0.32399999999999995,
          0.343077,
          0.36249600000000004,
          0.382239,
          0.40228800000000003,
          0.42262500000000003,
          0.443232,
          0.464091,
          0.485184,
          0.506493,
          0.528,
          0.549687,
          0.5715359999999999,
          0.5935290000000001,
          0.6156480000000001,
          0.6378750000000002,
          0.6601920000000001,
          0.6825810000000001,
          0.7050240000000001,
          0.7275029999999999,
          0.75,
          0.772497,
          0.7949760000000001,
          0.817419,
          0.8398080000000001,
          0.8621250000000003,
          0.884352,
          0.906471,
          0.9284639999999998,
          0.9503129999999999,
          0.9720000000000001,
          0.9935069999999999,
          1.014816,
          1.0359090000000002,
          1.0567680000000002,
          1.077375,
          1.097712,
          1.117761,
          1.137504,
          1.1569230000000001,
          1.1760000000000002,
          1.194717,
          1.213056,
          1.2309989999999997,
          1.2485279999999999,
          1.265625,
          1.282272,
          1.298451,
          1.3141440000000002,
          1.329333,
          1.3440000000000003,
          1.358127,
          1.371696,
          1.384689,
          1.3970879999999999,
          1.4088749999999999,
          1.420032,
          1.4305409999999998,
          1.4403839999999999,
          1.449543,
          1.4580000000000002,
          1.465737,
          1.472736,
          1.478979,
          1.484448,
          1.489125,
          1.492992,
          1.496031,
          1.498224,
          1.4995530000000001,
          1.5
         ]
        }
       ],
       "layout": {
        "autosize": false,
        "height": 700,
        "scene": {
         "aspectmode": "manual",
         "aspectratio": {
          "x": 1,
          "y": 1,
          "z": 0.5
         },
         "camera": {
          "center": {
           "x": 0,
           "y": 0,
           "z": 0
          },
          "eye": {
           "x": 0.5291647703070086,
           "y": -1.7999471758653334,
           "z": 1.0074493331152483
          },
          "projection": {
           "type": "perspective"
          },
          "up": {
           "x": -0.0031603725802104967,
           "y": -0.0009321533089147483,
           "z": 0.9999945715529475
          }
         }
        },
        "template": {
         "data": {
          "bar": [
           {
            "error_x": {
             "color": "#2a3f5f"
            },
            "error_y": {
             "color": "#2a3f5f"
            },
            "marker": {
             "line": {
              "color": "#E5ECF6",
              "width": 0.5
             },
             "pattern": {
              "fillmode": "overlay",
              "size": 10,
              "solidity": 0.2
             }
            },
            "type": "bar"
           }
          ],
          "barpolar": [
           {
            "marker": {
             "line": {
              "color": "#E5ECF6",
              "width": 0.5
             },
             "pattern": {
              "fillmode": "overlay",
              "size": 10,
              "solidity": 0.2
             }
            },
            "type": "barpolar"
           }
          ],
          "carpet": [
           {
            "aaxis": {
             "endlinecolor": "#2a3f5f",
             "gridcolor": "white",
             "linecolor": "white",
             "minorgridcolor": "white",
             "startlinecolor": "#2a3f5f"
            },
            "baxis": {
             "endlinecolor": "#2a3f5f",
             "gridcolor": "white",
             "linecolor": "white",
             "minorgridcolor": "white",
             "startlinecolor": "#2a3f5f"
            },
            "type": "carpet"
           }
          ],
          "choropleth": [
           {
            "colorbar": {
             "outlinewidth": 0,
             "ticks": ""
            },
            "type": "choropleth"
           }
          ],
          "contour": [
           {
            "colorbar": {
             "outlinewidth": 0,
             "ticks": ""
            },
            "colorscale": [
             [
              0,
              "#0d0887"
             ],
             [
              0.1111111111111111,
              "#46039f"
             ],
             [
              0.2222222222222222,
              "#7201a8"
             ],
             [
              0.3333333333333333,
              "#9c179e"
             ],
             [
              0.4444444444444444,
              "#bd3786"
             ],
             [
              0.5555555555555556,
              "#d8576b"
             ],
             [
              0.6666666666666666,
              "#ed7953"
             ],
             [
              0.7777777777777778,
              "#fb9f3a"
             ],
             [
              0.8888888888888888,
              "#fdca26"
             ],
             [
              1,
              "#f0f921"
             ]
            ],
            "type": "contour"
           }
          ],
          "contourcarpet": [
           {
            "colorbar": {
             "outlinewidth": 0,
             "ticks": ""
            },
            "type": "contourcarpet"
           }
          ],
          "heatmap": [
           {
            "colorbar": {
             "outlinewidth": 0,
             "ticks": ""
            },
            "colorscale": [
             [
              0,
              "#0d0887"
             ],
             [
              0.1111111111111111,
              "#46039f"
             ],
             [
              0.2222222222222222,
              "#7201a8"
             ],
             [
              0.3333333333333333,
              "#9c179e"
             ],
             [
              0.4444444444444444,
              "#bd3786"
             ],
             [
              0.5555555555555556,
              "#d8576b"
             ],
             [
              0.6666666666666666,
              "#ed7953"
             ],
             [
              0.7777777777777778,
              "#fb9f3a"
             ],
             [
              0.8888888888888888,
              "#fdca26"
             ],
             [
              1,
              "#f0f921"
             ]
            ],
            "type": "heatmap"
           }
          ],
          "heatmapgl": [
           {
            "colorbar": {
             "outlinewidth": 0,
             "ticks": ""
            },
            "colorscale": [
             [
              0,
              "#0d0887"
             ],
             [
              0.1111111111111111,
              "#46039f"
             ],
             [
              0.2222222222222222,
              "#7201a8"
             ],
             [
              0.3333333333333333,
              "#9c179e"
             ],
             [
              0.4444444444444444,
              "#bd3786"
             ],
             [
              0.5555555555555556,
              "#d8576b"
             ],
             [
              0.6666666666666666,
              "#ed7953"
             ],
             [
              0.7777777777777778,
              "#fb9f3a"
             ],
             [
              0.8888888888888888,
              "#fdca26"
             ],
             [
              1,
              "#f0f921"
             ]
            ],
            "type": "heatmapgl"
           }
          ],
          "histogram": [
           {
            "marker": {
             "pattern": {
              "fillmode": "overlay",
              "size": 10,
              "solidity": 0.2
             }
            },
            "type": "histogram"
           }
          ],
          "histogram2d": [
           {
            "colorbar": {
             "outlinewidth": 0,
             "ticks": ""
            },
            "colorscale": [
             [
              0,
              "#0d0887"
             ],
             [
              0.1111111111111111,
              "#46039f"
             ],
             [
              0.2222222222222222,
              "#7201a8"
             ],
             [
              0.3333333333333333,
              "#9c179e"
             ],
             [
              0.4444444444444444,
              "#bd3786"
             ],
             [
              0.5555555555555556,
              "#d8576b"
             ],
             [
              0.6666666666666666,
              "#ed7953"
             ],
             [
              0.7777777777777778,
              "#fb9f3a"
             ],
             [
              0.8888888888888888,
              "#fdca26"
             ],
             [
              1,
              "#f0f921"
             ]
            ],
            "type": "histogram2d"
           }
          ],
          "histogram2dcontour": [
           {
            "colorbar": {
             "outlinewidth": 0,
             "ticks": ""
            },
            "colorscale": [
             [
              0,
              "#0d0887"
             ],
             [
              0.1111111111111111,
              "#46039f"
             ],
             [
              0.2222222222222222,
              "#7201a8"
             ],
             [
              0.3333333333333333,
              "#9c179e"
             ],
             [
              0.4444444444444444,
              "#bd3786"
             ],
             [
              0.5555555555555556,
              "#d8576b"
             ],
             [
              0.6666666666666666,
              "#ed7953"
             ],
             [
              0.7777777777777778,
              "#fb9f3a"
             ],
             [
              0.8888888888888888,
              "#fdca26"
             ],
             [
              1,
              "#f0f921"
             ]
            ],
            "type": "histogram2dcontour"
           }
          ],
          "mesh3d": [
           {
            "colorbar": {
             "outlinewidth": 0,
             "ticks": ""
            },
            "type": "mesh3d"
           }
          ],
          "parcoords": [
           {
            "line": {
             "colorbar": {
              "outlinewidth": 0,
              "ticks": ""
             }
            },
            "type": "parcoords"
           }
          ],
          "pie": [
           {
            "automargin": true,
            "type": "pie"
           }
          ],
          "scatter": [
           {
            "fillpattern": {
             "fillmode": "overlay",
             "size": 10,
             "solidity": 0.2
            },
            "type": "scatter"
           }
          ],
          "scatter3d": [
           {
            "line": {
             "colorbar": {
              "outlinewidth": 0,
              "ticks": ""
             }
            },
            "marker": {
             "colorbar": {
              "outlinewidth": 0,
              "ticks": ""
             }
            },
            "type": "scatter3d"
           }
          ],
          "scattercarpet": [
           {
            "marker": {
             "colorbar": {
              "outlinewidth": 0,
              "ticks": ""
             }
            },
            "type": "scattercarpet"
           }
          ],
          "scattergeo": [
           {
            "marker": {
             "colorbar": {
              "outlinewidth": 0,
              "ticks": ""
             }
            },
            "type": "scattergeo"
           }
          ],
          "scattergl": [
           {
            "marker": {
             "colorbar": {
              "outlinewidth": 0,
              "ticks": ""
             }
            },
            "type": "scattergl"
           }
          ],
          "scattermapbox": [
           {
            "marker": {
             "colorbar": {
              "outlinewidth": 0,
              "ticks": ""
             }
            },
            "type": "scattermapbox"
           }
          ],
          "scatterpolar": [
           {
            "marker": {
             "colorbar": {
              "outlinewidth": 0,
              "ticks": ""
             }
            },
            "type": "scatterpolar"
           }
          ],
          "scatterpolargl": [
           {
            "marker": {
             "colorbar": {
              "outlinewidth": 0,
              "ticks": ""
             }
            },
            "type": "scatterpolargl"
           }
          ],
          "scatterternary": [
           {
            "marker": {
             "colorbar": {
              "outlinewidth": 0,
              "ticks": ""
             }
            },
            "type": "scatterternary"
           }
          ],
          "surface": [
           {
            "colorbar": {
             "outlinewidth": 0,
             "ticks": ""
            },
            "colorscale": [
             [
              0,
              "#0d0887"
             ],
             [
              0.1111111111111111,
              "#46039f"
             ],
             [
              0.2222222222222222,
              "#7201a8"
             ],
             [
              0.3333333333333333,
              "#9c179e"
             ],
             [
              0.4444444444444444,
              "#bd3786"
             ],
             [
              0.5555555555555556,
              "#d8576b"
             ],
             [
              0.6666666666666666,
              "#ed7953"
             ],
             [
              0.7777777777777778,
              "#fb9f3a"
             ],
             [
              0.8888888888888888,
              "#fdca26"
             ],
             [
              1,
              "#f0f921"
             ]
            ],
            "type": "surface"
           }
          ],
          "table": [
           {
            "cells": {
             "fill": {
              "color": "#EBF0F8"
             },
             "line": {
              "color": "white"
             }
            },
            "header": {
             "fill": {
              "color": "#C8D4E3"
             },
             "line": {
              "color": "white"
             }
            },
            "type": "table"
           }
          ]
         },
         "layout": {
          "annotationdefaults": {
           "arrowcolor": "#2a3f5f",
           "arrowhead": 0,
           "arrowwidth": 1
          },
          "autotypenumbers": "strict",
          "coloraxis": {
           "colorbar": {
            "outlinewidth": 0,
            "ticks": ""
           }
          },
          "colorscale": {
           "diverging": [
            [
             0,
             "#8e0152"
            ],
            [
             0.1,
             "#c51b7d"
            ],
            [
             0.2,
             "#de77ae"
            ],
            [
             0.3,
             "#f1b6da"
            ],
            [
             0.4,
             "#fde0ef"
            ],
            [
             0.5,
             "#f7f7f7"
            ],
            [
             0.6,
             "#e6f5d0"
            ],
            [
             0.7,
             "#b8e186"
            ],
            [
             0.8,
             "#7fbc41"
            ],
            [
             0.9,
             "#4d9221"
            ],
            [
             1,
             "#276419"
            ]
           ],
           "sequential": [
            [
             0,
             "#0d0887"
            ],
            [
             0.1111111111111111,
             "#46039f"
            ],
            [
             0.2222222222222222,
             "#7201a8"
            ],
            [
             0.3333333333333333,
             "#9c179e"
            ],
            [
             0.4444444444444444,
             "#bd3786"
            ],
            [
             0.5555555555555556,
             "#d8576b"
            ],
            [
             0.6666666666666666,
             "#ed7953"
            ],
            [
             0.7777777777777778,
             "#fb9f3a"
            ],
            [
             0.8888888888888888,
             "#fdca26"
            ],
            [
             1,
             "#f0f921"
            ]
           ],
           "sequentialminus": [
            [
             0,
             "#0d0887"
            ],
            [
             0.1111111111111111,
             "#46039f"
            ],
            [
             0.2222222222222222,
             "#7201a8"
            ],
            [
             0.3333333333333333,
             "#9c179e"
            ],
            [
             0.4444444444444444,
             "#bd3786"
            ],
            [
             0.5555555555555556,
             "#d8576b"
            ],
            [
             0.6666666666666666,
             "#ed7953"
            ],
            [
             0.7777777777777778,
             "#fb9f3a"
            ],
            [
             0.8888888888888888,
             "#fdca26"
            ],
            [
             1,
             "#f0f921"
            ]
           ]
          },
          "colorway": [
           "#636efa",
           "#EF553B",
           "#00cc96",
           "#ab63fa",
           "#FFA15A",
           "#19d3f3",
           "#FF6692",
           "#B6E880",
           "#FF97FF",
           "#FECB52"
          ],
          "font": {
           "color": "#2a3f5f"
          },
          "geo": {
           "bgcolor": "white",
           "lakecolor": "white",
           "landcolor": "#E5ECF6",
           "showlakes": true,
           "showland": true,
           "subunitcolor": "white"
          },
          "hoverlabel": {
           "align": "left"
          },
          "hovermode": "closest",
          "mapbox": {
           "style": "light"
          },
          "paper_bgcolor": "white",
          "plot_bgcolor": "#E5ECF6",
          "polar": {
           "angularaxis": {
            "gridcolor": "white",
            "linecolor": "white",
            "ticks": ""
           },
           "bgcolor": "#E5ECF6",
           "radialaxis": {
            "gridcolor": "white",
            "linecolor": "white",
            "ticks": ""
           }
          },
          "scene": {
           "xaxis": {
            "backgroundcolor": "#E5ECF6",
            "gridcolor": "white",
            "gridwidth": 2,
            "linecolor": "white",
            "showbackground": true,
            "ticks": "",
            "zerolinecolor": "white"
           },
           "yaxis": {
            "backgroundcolor": "#E5ECF6",
            "gridcolor": "white",
            "gridwidth": 2,
            "linecolor": "white",
            "showbackground": true,
            "ticks": "",
            "zerolinecolor": "white"
           },
           "zaxis": {
            "backgroundcolor": "#E5ECF6",
            "gridcolor": "white",
            "gridwidth": 2,
            "linecolor": "white",
            "showbackground": true,
            "ticks": "",
            "zerolinecolor": "white"
           }
          },
          "shapedefaults": {
           "line": {
            "color": "#2a3f5f"
           }
          },
          "ternary": {
           "aaxis": {
            "gridcolor": "white",
            "linecolor": "white",
            "ticks": ""
           },
           "baxis": {
            "gridcolor": "white",
            "linecolor": "white",
            "ticks": ""
           },
           "bgcolor": "#E5ECF6",
           "caxis": {
            "gridcolor": "white",
            "linecolor": "white",
            "ticks": ""
           }
          },
          "title": {
           "x": 0.05
          },
          "xaxis": {
           "automargin": true,
           "gridcolor": "white",
           "linecolor": "white",
           "ticks": "",
           "title": {
            "standoff": 15
           },
           "zerolinecolor": "white",
           "zerolinewidth": 2
          },
          "yaxis": {
           "automargin": true,
           "gridcolor": "white",
           "linecolor": "white",
           "ticks": "",
           "title": {
            "standoff": 15
           },
           "zerolinecolor": "white",
           "zerolinewidth": 2
          }
         }
        },
        "width": 800
       }
      },
      "image/png": "[encoded data removed]",
      "text/html": [
       "<div>                            <div id=\"4e26a466-4837-4ea1-b058-b8ff0adc0b15\" class=\"plotly-graph-div\" style=\"height:700px; width:800px;\"></div>            <script type=\"text/javascript\">                require([\"plotly\"], function(Plotly) {                    window.PLOTLYENV=window.PLOTLYENV || {};                                    if (document.getElementById(\"4e26a466-4837-4ea1-b058-b8ff0adc0b15\")) {                    Plotly.newPlot(                        \"4e26a466-4837-4ea1-b058-b8ff0adc0b15\",                        [{\"line\":{\"color\":\"darkblue\",\"width\":3},\"marker\":{\"size\":10},\"x\":[0.0,0.049404,0.097632,0.14470799999999998,0.19065600000000002,0.23550000000000004,0.27926399999999996,0.32197200000000004,0.363648,0.40431600000000006,0.44400000000000006,0.4827240000000001,0.520512,0.5573880000000001,0.5933760000000001,0.6285,0.6627839999999998,0.6962520000000001,0.7289280000000001,0.7608360000000002,0.7920000000000003,0.8224440000000001,0.8521920000000001,0.881268,0.9096959999999998,0.9375,0.9647040000000001,0.9913319999999999,1.017408,1.0429559999999998,1.0679999999999998,1.0925639999999996,1.1166719999999997,1.140348,1.1636159999999998,1.1864999999999997,1.2090239999999999,1.231212,1.2530880000000002,1.2746759999999997,1.2960000000000003,1.317084,1.3379520000000003,1.3586280000000004,1.3791360000000001,1.3995000000000002,1.4197440000000001,1.4398920000000002,1.459968,1.4799959999999999,1.5,1.520004,1.540032,1.560108,1.5802559999999999,1.6005000000000003,1.620864,1.641372,1.6620479999999997,1.6829159999999999,1.704,1.725324,1.746912,1.7687880000000002,1.7909760000000001,1.8135,1.8363840000000002,1.859652,1.883328,1.9074360000000001,1.9320000000000002,1.957044,1.982592,2.0086679999999997,2.0352959999999998,2.0625,2.090304,2.1187319999999996,2.147808,2.177556,2.208,2.2391639999999997,2.271072,2.303748,2.3372159999999997,2.3714999999999997,2.406624,2.4426119999999996,2.479488,2.517276,2.556,2.5956840000000003,2.636352,2.6780280000000003,2.720736,2.7645000000000004,2.809344,2.855292,2.9023679999999996,2.9505960000000004,3.0],\"y\":[0.0,0.0005960000000000001,0.0023680000000000003,0.005292000000000001,0.009344,0.014500000000000002,0.020735999999999997,0.028028,0.036352,0.045684,0.056000000000000015,0.067276,0.079488,0.09261200000000001,0.10662400000000001,0.1215,0.137216,0.15374800000000002,0.171072,0.18916400000000003,0.20800000000000007,0.22755599999999998,0.247808,0.268732,0.290304,0.3125,0.33529600000000004,0.358668,0.382592,0.4070439999999999,0.432,0.45743599999999995,0.483328,0.509652,0.536384,0.5635,0.590976,0.618788,0.6469119999999999,0.675324,0.7040000000000001,0.7329160000000001,0.762048,0.7913720000000001,0.820864,0.8505000000000001,0.8802560000000001,0.9101080000000001,0.940032,0.970004,1.0,1.0299960000000001,1.059968,1.089892,1.119744,1.1495000000000002,1.1791360000000002,1.208628,1.237952,1.2670839999999999,1.296,1.3246759999999997,1.353088,1.381212,1.409024,1.4365,1.463616,1.490348,1.5166720000000002,1.542564,1.568,1.592956,1.617408,1.6413319999999998,1.664704,1.6875,1.709696,1.731268,1.752192,1.7724440000000001,1.7920000000000003,1.8108360000000001,1.8289279999999999,1.846252,1.8627839999999998,1.8784999999999998,1.893376,1.907388,1.920512,1.932724,1.9440000000000002,1.954316,1.9636479999999998,1.971972,1.979264,1.9855,1.990656,1.9947080000000001,1.9976319999999999,1.9994040000000002,2.0],\"z\":[0.0,0.000447,0.0017760000000000005,0.003969,0.0070079999999999995,0.010875000000000003,0.015551999999999998,0.021021,0.027264000000000007,0.034263,0.04200000000000001,0.050457,0.059616,0.06945900000000002,0.07996800000000001,0.091125,0.10291199999999999,0.11531100000000002,0.128304,0.14187300000000003,0.15600000000000006,0.17066699999999999,0.18585599999999997,0.201549,0.217728,0.234375,0.25147200000000003,0.269001,0.28694400000000003,0.3052829999999999,0.32399999999999995,0.343077,0.36249600000000004,0.382239,0.40228800000000003,0.42262500000000003,0.443232,0.464091,0.485184,0.506493,0.528,0.549687,0.5715359999999999,0.5935290000000001,0.6156480000000001,0.6378750000000002,0.6601920000000001,0.6825810000000001,0.7050240000000001,0.7275029999999999,0.75,0.772497,0.7949760000000001,0.817419,0.8398080000000001,0.8621250000000003,0.884352,0.906471,0.9284639999999998,0.9503129999999999,0.9720000000000001,0.9935069999999999,1.014816,1.0359090000000002,1.0567680000000002,1.077375,1.097712,1.117761,1.137504,1.1569230000000001,1.1760000000000002,1.194717,1.213056,1.2309989999999997,1.2485279999999999,1.265625,1.282272,1.298451,1.3141440000000002,1.329333,1.3440000000000003,1.358127,1.371696,1.384689,1.3970879999999999,1.4088749999999999,1.420032,1.4305409999999998,1.4403839999999999,1.449543,1.4580000000000002,1.465737,1.472736,1.478979,1.484448,1.489125,1.492992,1.496031,1.498224,1.4995530000000001,1.5],\"type\":\"scatter3d\"}],                        {\"template\":{\"data\":{\"histogram2dcontour\":[{\"type\":\"histogram2dcontour\",\"colorbar\":{\"outlinewidth\":0,\"ticks\":\"\"},\"colorscale\":[[0.0,\"#0d0887\"],[0.1111111111111111,\"#46039f\"],[0.2222222222222222,\"#7201a8\"],[0.3333333333333333,\"#9c179e\"],[0.4444444444444444,\"#bd3786\"],[0.5555555555555556,\"#d8576b\"],[0.6666666666666666,\"#ed7953\"],[0.7777777777777778,\"#fb9f3a\"],[0.8888888888888888,\"#fdca26\"],[1.0,\"#f0f921\"]]}],\"choropleth\":[{\"type\":\"choropleth\",\"colorbar\":{\"outlinewidth\":0,\"ticks\":\"\"}}],\"histogram2d\":[{\"type\":\"histogram2d\",\"colorbar\":{\"outlinewidth\":0,\"ticks\":\"\"},\"colorscale\":[[0.0,\"#0d0887\"],[0.1111111111111111,\"#46039f\"],[0.2222222222222222,\"#7201a8\"],[0.3333333333333333,\"#9c179e\"],[0.4444444444444444,\"#bd3786\"],[0.5555555555555556,\"#d8576b\"],[0.6666666666666666,\"#ed7953\"],[0.7777777777777778,\"#fb9f3a\"],[0.8888888888888888,\"#fdca26\"],[1.0,\"#f0f921\"]]}],\"heatmap\":[{\"type\":\"heatmap\",\"colorbar\":{\"outlinewidth\":0,\"ticks\":\"\"},\"colorscale\":[[0.0,\"#0d0887\"],[0.1111111111111111,\"#46039f\"],[0.2222222222222222,\"#7201a8\"],[0.3333333333333333,\"#9c179e\"],[0.4444444444444444,\"#bd3786\"],[0.5555555555555556,\"#d8576b\"],[0.6666666666666666,\"#ed7953\"],[0.7777777777777778,\"#fb9f3a\"],[0.8888888888888888,\"#fdca26\"],[1.0,\"#f0f921\"]]}],\"heatmapgl\":[{\"type\":\"heatmapgl\",\"colorbar\":{\"outlinewidth\":0,\"ticks\":\"\"},\"colorscale\":[[0.0,\"#0d0887\"],[0.1111111111111111,\"#46039f\"],[0.2222222222222222,\"#7201a8\"],[0.3333333333333333,\"#9c179e\"],[0.4444444444444444,\"#bd3786\"],[0.5555555555555556,\"#d8576b\"],[0.6666666666666666,\"#ed7953\"],[0.7777777777777778,\"#fb9f3a\"],[0.8888888888888888,\"#fdca26\"],[1.0,\"#f0f921\"]]}],\"contourcarpet\":[{\"type\":\"contourcarpet\",\"colorbar\":{\"outlinewidth\":0,\"ticks\":\"\"}}],\"contour\":[{\"type\":\"contour\",\"colorbar\":{\"outlinewidth\":0,\"ticks\":\"\"},\"colorscale\":[[0.0,\"#0d0887\"],[0.1111111111111111,\"#46039f\"],[0.2222222222222222,\"#7201a8\"],[0.3333333333333333,\"#9c179e\"],[0.4444444444444444,\"#bd3786\"],[0.5555555555555556,\"#d8576b\"],[0.6666666666666666,\"#ed7953\"],[0.7777777777777778,\"#fb9f3a\"],[0.8888888888888888,\"#fdca26\"],[1.0,\"#f0f921\"]]}],\"surface\":[{\"type\":\"surface\",\"colorbar\":{\"outlinewidth\":0,\"ticks\":\"\"},\"colorscale\":[[0.0,\"#0d0887\"],[0.1111111111111111,\"#46039f\"],[0.2222222222222222,\"#7201a8\"],[0.3333333333333333,\"#9c179e\"],[0.4444444444444444,\"#bd3786\"],[0.5555555555555556,\"#d8576b\"],[0.6666666666666666,\"#ed7953\"],[0.7777777777777778,\"#fb9f3a\"],[0.8888888888888888,\"#fdca26\"],[1.0,\"#f0f921\"]]}],\"mesh3d\":[{\"type\":\"mesh3d\",\"colorbar\":{\"outlinewidth\":0,\"ticks\":\"\"}}],\"scatter\":[{\"fillpattern\":{\"fillmode\":\"overlay\",\"size\":10,\"solidity\":0.2},\"type\":\"scatter\"}],\"parcoords\":[{\"type\":\"parcoords\",\"line\":{\"colorbar\":{\"outlinewidth\":0,\"ticks\":\"\"}}}],\"scatterpolargl\":[{\"type\":\"scatterpolargl\",\"marker\":{\"colorbar\":{\"outlinewidth\":0,\"ticks\":\"\"}}}],\"bar\":[{\"error_x\":{\"color\":\"#2a3f5f\"},\"error_y\":{\"color\":\"#2a3f5f\"},\"marker\":{\"line\":{\"color\":\"#E5ECF6\",\"width\":0.5},\"pattern\":{\"fillmode\":\"overlay\",\"size\":10,\"solidity\":0.2}},\"type\":\"bar\"}],\"scattergeo\":[{\"type\":\"scattergeo\",\"marker\":{\"colorbar\":{\"outlinewidth\":0,\"ticks\":\"\"}}}],\"scatterpolar\":[{\"type\":\"scatterpolar\",\"marker\":{\"colorbar\":{\"outlinewidth\":0,\"ticks\":\"\"}}}],\"histogram\":[{\"marker\":{\"pattern\":{\"fillmode\":\"overlay\",\"size\":10,\"solidity\":0.2}},\"type\":\"histogram\"}],\"scattergl\":[{\"type\":\"scattergl\",\"marker\":{\"colorbar\":{\"outlinewidth\":0,\"ticks\":\"\"}}}],\"scatter3d\":[{\"type\":\"scatter3d\",\"line\":{\"colorbar\":{\"outlinewidth\":0,\"ticks\":\"\"}},\"marker\":{\"colorbar\":{\"outlinewidth\":0,\"ticks\":\"\"}}}],\"scattermapbox\":[{\"type\":\"scattermapbox\",\"marker\":{\"colorbar\":{\"outlinewidth\":0,\"ticks\":\"\"}}}],\"scatterternary\":[{\"type\":\"scatterternary\",\"marker\":{\"colorbar\":{\"outlinewidth\":0,\"ticks\":\"\"}}}],\"scattercarpet\":[{\"type\":\"scattercarpet\",\"marker\":{\"colorbar\":{\"outlinewidth\":0,\"ticks\":\"\"}}}],\"carpet\":[{\"aaxis\":{\"endlinecolor\":\"#2a3f5f\",\"gridcolor\":\"white\",\"linecolor\":\"white\",\"minorgridcolor\":\"white\",\"startlinecolor\":\"#2a3f5f\"},\"baxis\":{\"endlinecolor\":\"#2a3f5f\",\"gridcolor\":\"white\",\"linecolor\":\"white\",\"minorgridcolor\":\"white\",\"startlinecolor\":\"#2a3f5f\"},\"type\":\"carpet\"}],\"table\":[{\"cells\":{\"fill\":{\"color\":\"#EBF0F8\"},\"line\":{\"color\":\"white\"}},\"header\":{\"fill\":{\"color\":\"#C8D4E3\"},\"line\":{\"color\":\"white\"}},\"type\":\"table\"}],\"barpolar\":[{\"marker\":{\"line\":{\"color\":\"#E5ECF6\",\"width\":0.5},\"pattern\":{\"fillmode\":\"overlay\",\"size\":10,\"solidity\":0.2}},\"type\":\"barpolar\"}],\"pie\":[{\"automargin\":true,\"type\":\"pie\"}]},\"layout\":{\"autotypenumbers\":\"strict\",\"colorway\":[\"#636efa\",\"#EF553B\",\"#00cc96\",\"#ab63fa\",\"#FFA15A\",\"#19d3f3\",\"#FF6692\",\"#B6E880\",\"#FF97FF\",\"#FECB52\"],\"font\":{\"color\":\"#2a3f5f\"},\"hovermode\":\"closest\",\"hoverlabel\":{\"align\":\"left\"},\"paper_bgcolor\":\"white\",\"plot_bgcolor\":\"#E5ECF6\",\"polar\":{\"bgcolor\":\"#E5ECF6\",\"angularaxis\":{\"gridcolor\":\"white\",\"linecolor\":\"white\",\"ticks\":\"\"},\"radialaxis\":{\"gridcolor\":\"white\",\"linecolor\":\"white\",\"ticks\":\"\"}},\"ternary\":{\"bgcolor\":\"#E5ECF6\",\"aaxis\":{\"gridcolor\":\"white\",\"linecolor\":\"white\",\"ticks\":\"\"},\"baxis\":{\"gridcolor\":\"white\",\"linecolor\":\"white\",\"ticks\":\"\"},\"caxis\":{\"gridcolor\":\"white\",\"linecolor\":\"white\",\"ticks\":\"\"}},\"coloraxis\":{\"colorbar\":{\"outlinewidth\":0,\"ticks\":\"\"}},\"colorscale\":{\"sequential\":[[0.0,\"#0d0887\"],[0.1111111111111111,\"#46039f\"],[0.2222222222222222,\"#7201a8\"],[0.3333333333333333,\"#9c179e\"],[0.4444444444444444,\"#bd3786\"],[0.5555555555555556,\"#d8576b\"],[0.6666666666666666,\"#ed7953\"],[0.7777777777777778,\"#fb9f3a\"],[0.8888888888888888,\"#fdca26\"],[1.0,\"#f0f921\"]],\"sequentialminus\":[[0.0,\"#0d0887\"],[0.1111111111111111,\"#46039f\"],[0.2222222222222222,\"#7201a8\"],[0.3333333333333333,\"#9c179e\"],[0.4444444444444444,\"#bd3786\"],[0.5555555555555556,\"#d8576b\"],[0.6666666666666666,\"#ed7953\"],[0.7777777777777778,\"#fb9f3a\"],[0.8888888888888888,\"#fdca26\"],[1.0,\"#f0f921\"]],\"diverging\":[[0,\"#8e0152\"],[0.1,\"#c51b7d\"],[0.2,\"#de77ae\"],[0.3,\"#f1b6da\"],[0.4,\"#fde0ef\"],[0.5,\"#f7f7f7\"],[0.6,\"#e6f5d0\"],[0.7,\"#b8e186\"],[0.8,\"#7fbc41\"],[0.9,\"#4d9221\"],[1,\"#276419\"]]},\"xaxis\":{\"gridcolor\":\"white\",\"linecolor\":\"white\",\"ticks\":\"\",\"title\":{\"standoff\":15},\"zerolinecolor\":\"white\",\"automargin\":true,\"zerolinewidth\":2},\"yaxis\":{\"gridcolor\":\"white\",\"linecolor\":\"white\",\"ticks\":\"\",\"title\":{\"standoff\":15},\"zerolinecolor\":\"white\",\"automargin\":true,\"zerolinewidth\":2},\"scene\":{\"xaxis\":{\"backgroundcolor\":\"#E5ECF6\",\"gridcolor\":\"white\",\"linecolor\":\"white\",\"showbackground\":true,\"ticks\":\"\",\"zerolinecolor\":\"white\",\"gridwidth\":2},\"yaxis\":{\"backgroundcolor\":\"#E5ECF6\",\"gridcolor\":\"white\",\"linecolor\":\"white\",\"showbackground\":true,\"ticks\":\"\",\"zerolinecolor\":\"white\",\"gridwidth\":2},\"zaxis\":{\"backgroundcolor\":\"#E5ECF6\",\"gridcolor\":\"white\",\"linecolor\":\"white\",\"showbackground\":true,\"ticks\":\"\",\"zerolinecolor\":\"white\",\"gridwidth\":2}},\"shapedefaults\":{\"line\":{\"color\":\"#2a3f5f\"}},\"annotationdefaults\":{\"arrowcolor\":\"#2a3f5f\",\"arrowhead\":0,\"arrowwidth\":1},\"geo\":{\"bgcolor\":\"white\",\"landcolor\":\"#E5ECF6\",\"subunitcolor\":\"white\",\"showland\":true,\"showlakes\":true,\"lakecolor\":\"white\"},\"title\":{\"x\":0.05},\"mapbox\":{\"style\":\"light\"}}},\"scene\":{\"camera\":{\"up\":{\"x\":0,\"y\":0,\"z\":1},\"eye\":{\"x\":-0.75,\"y\":-1.5,\"z\":1}},\"aspectratio\":{\"x\":1,\"y\":1,\"z\":0.5},\"aspectmode\":\"manual\"},\"width\":800,\"height\":700,\"autosize\":false},                        {\"responsive\": true}                    ).then(function(){\n",
       "                            \n",
       "var gd = document.getElementById('4e26a466-4837-4ea1-b058-b8ff0adc0b15');\n",
       "var x = new MutationObserver(function (mutations, observer) {{\n",
       "        var display = window.getComputedStyle(gd).display;\n",
       "        if (!display || display === 'none') {{\n",
       "            console.log([gd, 'removed!']);\n",
       "            Plotly.purge(gd);\n",
       "            observer.disconnect();\n",
       "        }}\n",
       "}});\n",
       "\n",
       "// Listen for the removal of the full notebook cells\n",
       "var notebookContainer = gd.closest('#notebook-container');\n",
       "if (notebookContainer) {{\n",
       "    x.observe(notebookContainer, {childList: true});\n",
       "}}\n",
       "\n",
       "// Listen for the clearing of the current output cell\n",
       "var outputEl = gd.closest('.output');\n",
       "if (outputEl) {{\n",
       "    x.observe(outputEl, {childList: true});\n",
       "}}\n",
       "\n",
       "                        })                };                });            </script>        </div>"
      ]
     },
     "metadata": {},
     "output_type": "display_data"
    }
   ],
   "source": [
    "fig_ext = go.Figure(data=go.Scatter3d(\n",
    "    x=df[\"x\"], y=df[\"y\"], z=df[\"z\"],\n",
    "    marker=dict(\n",
    "        size=10,\n",
    "    ),\n",
    "    line=dict(\n",
    "        color='darkblue',\n",
    "        width=3\n",
    "    )\n",
    "))\n",
    "\n",
    "fig_ext.update_layout(\n",
    "    width=800,\n",
    "    height=700,\n",
    "    autosize=False,\n",
    "    scene=dict(\n",
    "        camera=dict(\n",
    "            up=dict(\n",
    "                x=0,\n",
    "                y=0,\n",
    "                z=1\n",
    "            ),\n",
    "            eye=dict(\n",
    "                x=-0.75,\n",
    "                y=-1.5,\n",
    "                z=1,\n",
    "            )\n",
    "        ),\n",
    "        aspectratio = dict( x=1, y=1, z=0.5 ),\n",
    "        aspectmode = 'manual'\n",
    "    ),\n",
    ")\n",
    "\n",
    "fig_ext.show()\n"
   ]
  },
  {
   "cell_type": "code",
   "execution_count": 38,
   "id": "5bc50976-437b-4977-abd8-b485ce2be983",
   "metadata": {},
   "outputs": [
    {
     "data": {
      "application/vnd.plotly.v1+json": {
       "config": {
        "plotlyServerURL": "https://plot.ly"
       },
       "data": [
        {
         "line": {
          "color": "darkblue",
          "width": 3
         },
         "marker": {
          "size": 10
         },
         "type": "scatter3d",
         "x": [
          0,
          0.049404,
          0.097632,
          0.14470799999999998,
          0.19065600000000002,
          0.23550000000000004,
          0.27926399999999996,
          0.32197200000000004,
          0.363648,
          0.40431600000000006,
          0.44400000000000006,
          0.4827240000000001,
          0.520512,
          0.5573880000000001,
          0.5933760000000001,
          0.6285,
          0.6627839999999998,
          0.6962520000000001,
          0.7289280000000001,
          0.7608360000000002,
          0.7920000000000003,
          0.8224440000000001,
          0.8521920000000001,
          0.881268,
          0.9096959999999998,
          0.9375,
          0.9647040000000001,
          0.9913319999999999,
          1.017408,
          1.0429559999999998,
          1.0679999999999998,
          1.0925639999999996,
          1.1166719999999997,
          1.140348,
          1.1636159999999998,
          1.1864999999999997,
          1.2090239999999999,
          1.231212,
          1.2530880000000002,
          1.2746759999999997,
          1.2960000000000003,
          1.317084,
          1.3379520000000003,
          1.3586280000000004,
          1.3791360000000001,
          1.3995000000000002,
          1.4197440000000001,
          1.4398920000000002,
          1.459968,
          1.4799959999999999,
          1.5,
          1.520004,
          1.540032,
          1.560108,
          1.5802559999999999,
          1.6005000000000003,
          1.620864,
          1.641372,
          1.6620479999999997,
          1.6829159999999999,
          1.704,
          1.725324,
          1.746912,
          1.7687880000000002,
          1.7909760000000001,
          1.8135,
          1.8363840000000002,
          1.859652,
          1.883328,
          1.9074360000000001,
          1.9320000000000002,
          1.957044,
          1.982592,
          2.0086679999999997,
          2.0352959999999998,
          2.0625,
          2.090304,
          2.1187319999999996,
          2.147808,
          2.177556,
          2.208,
          2.2391639999999997,
          2.271072,
          2.303748,
          2.3372159999999997,
          2.3714999999999997,
          2.406624,
          2.4426119999999996,
          2.479488,
          2.517276,
          2.556,
          2.5956840000000003,
          2.636352,
          2.6780280000000003,
          2.720736,
          2.7645000000000004,
          2.809344,
          2.855292,
          2.9023679999999996,
          2.9505960000000004,
          3
         ],
         "y": [
          0,
          0.0005960000000000001,
          0.0023680000000000003,
          0.005292000000000001,
          0.009344,
          0.014500000000000002,
          0.020735999999999997,
          0.028028,
          0.036352,
          0.045684,
          0.056000000000000015,
          0.067276,
          0.079488,
          0.09261200000000001,
          0.10662400000000001,
          0.1215,
          0.137216,
          0.15374800000000002,
          0.171072,
          0.18916400000000003,
          0.20800000000000007,
          0.22755599999999998,
          0.247808,
          0.268732,
          0.290304,
          0.3125,
          0.33529600000000004,
          0.358668,
          0.382592,
          0.4070439999999999,
          0.432,
          0.45743599999999995,
          0.483328,
          0.509652,
          0.536384,
          0.5635,
          0.590976,
          0.618788,
          0.6469119999999999,
          0.675324,
          0.7040000000000001,
          0.7329160000000001,
          0.762048,
          0.7913720000000001,
          0.820864,
          0.8505000000000001,
          0.8802560000000001,
          0.9101080000000001,
          0.940032,
          0.970004,
          1,
          1.0299960000000001,
          1.059968,
          1.089892,
          1.119744,
          1.1495000000000002,
          1.1791360000000002,
          1.208628,
          1.237952,
          1.2670839999999999,
          1.296,
          1.3246759999999997,
          1.353088,
          1.381212,
          1.409024,
          1.4365,
          1.463616,
          1.490348,
          1.5166720000000002,
          1.542564,
          1.568,
          1.592956,
          1.617408,
          1.6413319999999998,
          1.664704,
          1.6875,
          1.709696,
          1.731268,
          1.752192,
          1.7724440000000001,
          1.7920000000000003,
          1.8108360000000001,
          1.8289279999999999,
          1.846252,
          1.8627839999999998,
          1.8784999999999998,
          1.893376,
          1.907388,
          1.920512,
          1.932724,
          1.9440000000000002,
          1.954316,
          1.9636479999999998,
          1.971972,
          1.979264,
          1.9855,
          1.990656,
          1.9947080000000001,
          1.9976319999999999,
          1.9994040000000002,
          2
         ],
         "z": [
          0,
          0.000447,
          0.0017760000000000005,
          0.003969,
          0.0070079999999999995,
          0.010875000000000003,
          0.015551999999999998,
          0.021021,
          0.027264000000000007,
          0.034263,
          0.04200000000000001,
          0.050457,
          0.059616,
          0.06945900000000002,
          0.07996800000000001,
          0.091125,
          0.10291199999999999,
          0.11531100000000002,
          0.128304,
          0.14187300000000003,
          0.15600000000000006,
          0.17066699999999999,
          0.18585599999999997,
          0.201549,
          0.217728,
          0.234375,
          0.25147200000000003,
          0.269001,
          0.28694400000000003,
          0.3052829999999999,
          0.32399999999999995,
          0.343077,
          0.36249600000000004,
          0.382239,
          0.40228800000000003,
          0.42262500000000003,
          0.443232,
          0.464091,
          0.485184,
          0.506493,
          0.528,
          0.549687,
          0.5715359999999999,
          0.5935290000000001,
          0.6156480000000001,
          0.6378750000000002,
          0.6601920000000001,
          0.6825810000000001,
          0.7050240000000001,
          0.7275029999999999,
          0.75,
          0.772497,
          0.7949760000000001,
          0.817419,
          0.8398080000000001,
          0.8621250000000003,
          0.884352,
          0.906471,
          0.9284639999999998,
          0.9503129999999999,
          0.9720000000000001,
          0.9935069999999999,
          1.014816,
          1.0359090000000002,
          1.0567680000000002,
          1.077375,
          1.097712,
          1.117761,
          1.137504,
          1.1569230000000001,
          1.1760000000000002,
          1.194717,
          1.213056,
          1.2309989999999997,
          1.2485279999999999,
          1.265625,
          1.282272,
          1.298451,
          1.3141440000000002,
          1.329333,
          1.3440000000000003,
          1.358127,
          1.371696,
          1.384689,
          1.3970879999999999,
          1.4088749999999999,
          1.420032,
          1.4305409999999998,
          1.4403839999999999,
          1.449543,
          1.4580000000000002,
          1.465737,
          1.472736,
          1.478979,
          1.484448,
          1.489125,
          1.492992,
          1.496031,
          1.498224,
          1.4995530000000001,
          1.5
         ]
        }
       ],
       "layout": {
        "autosize": false,
        "height": 700,
        "scene": {
         "aspectmode": "manual",
         "aspectratio": {
          "x": 1,
          "y": 1,
          "z": 0.5
         },
         "camera": {
          "center": {
           "x": 0,
           "y": 0,
           "z": 0
          },
          "eye": {
           "x": -1.0652946987133811,
           "y": -1.3473330141975854,
           "z": 0.9286231494779874
          },
          "projection": {
           "type": "perspective"
          },
          "up": {
           "x": 0,
           "y": 0,
           "z": 1
          }
         },
         "xaxis": {
          "color": "rgba(14, 14, 14, 1)",
          "gridcolor": "rgba(104, 104, 104, 1)",
          "showbackground": false,
          "type": "linear"
         },
         "yaxis": {
          "color": "rgba(14, 14, 14, 1)",
          "gridcolor": "rgba(104, 104, 104, 1)",
          "showbackground": false,
          "type": "linear"
         },
         "zaxis": {
          "color": "rgba(14, 14, 14, 1)",
          "gridcolor": "rgba(104, 104, 104, 1)",
          "showbackground": false,
          "type": "linear"
         }
        },
        "template": {
         "data": {
          "bar": [
           {
            "error_x": {
             "color": "#2a3f5f"
            },
            "error_y": {
             "color": "#2a3f5f"
            },
            "marker": {
             "line": {
              "color": "#E5ECF6",
              "width": 0.5
             },
             "pattern": {
              "fillmode": "overlay",
              "size": 10,
              "solidity": 0.2
             }
            },
            "type": "bar"
           }
          ],
          "barpolar": [
           {
            "marker": {
             "line": {
              "color": "#E5ECF6",
              "width": 0.5
             },
             "pattern": {
              "fillmode": "overlay",
              "size": 10,
              "solidity": 0.2
             }
            },
            "type": "barpolar"
           }
          ],
          "carpet": [
           {
            "aaxis": {
             "endlinecolor": "#2a3f5f",
             "gridcolor": "white",
             "linecolor": "white",
             "minorgridcolor": "white",
             "startlinecolor": "#2a3f5f"
            },
            "baxis": {
             "endlinecolor": "#2a3f5f",
             "gridcolor": "white",
             "linecolor": "white",
             "minorgridcolor": "white",
             "startlinecolor": "#2a3f5f"
            },
            "type": "carpet"
           }
          ],
          "choropleth": [
           {
            "colorbar": {
             "outlinewidth": 0,
             "ticks": ""
            },
            "type": "choropleth"
           }
          ],
          "contour": [
           {
            "colorbar": {
             "outlinewidth": 0,
             "ticks": ""
            },
            "colorscale": [
             [
              0,
              "#0d0887"
             ],
             [
              0.1111111111111111,
              "#46039f"
             ],
             [
              0.2222222222222222,
              "#7201a8"
             ],
             [
              0.3333333333333333,
              "#9c179e"
             ],
             [
              0.4444444444444444,
              "#bd3786"
             ],
             [
              0.5555555555555556,
              "#d8576b"
             ],
             [
              0.6666666666666666,
              "#ed7953"
             ],
             [
              0.7777777777777778,
              "#fb9f3a"
             ],
             [
              0.8888888888888888,
              "#fdca26"
             ],
             [
              1,
              "#f0f921"
             ]
            ],
            "type": "contour"
           }
          ],
          "contourcarpet": [
           {
            "colorbar": {
             "outlinewidth": 0,
             "ticks": ""
            },
            "type": "contourcarpet"
           }
          ],
          "heatmap": [
           {
            "colorbar": {
             "outlinewidth": 0,
             "ticks": ""
            },
            "colorscale": [
             [
              0,
              "#0d0887"
             ],
             [
              0.1111111111111111,
              "#46039f"
             ],
             [
              0.2222222222222222,
              "#7201a8"
             ],
             [
              0.3333333333333333,
              "#9c179e"
             ],
             [
              0.4444444444444444,
              "#bd3786"
             ],
             [
              0.5555555555555556,
              "#d8576b"
             ],
             [
              0.6666666666666666,
              "#ed7953"
             ],
             [
              0.7777777777777778,
              "#fb9f3a"
             ],
             [
              0.8888888888888888,
              "#fdca26"
             ],
             [
              1,
              "#f0f921"
             ]
            ],
            "type": "heatmap"
           }
          ],
          "heatmapgl": [
           {
            "colorbar": {
             "outlinewidth": 0,
             "ticks": ""
            },
            "colorscale": [
             [
              0,
              "#0d0887"
             ],
             [
              0.1111111111111111,
              "#46039f"
             ],
             [
              0.2222222222222222,
              "#7201a8"
             ],
             [
              0.3333333333333333,
              "#9c179e"
             ],
             [
              0.4444444444444444,
              "#bd3786"
             ],
             [
              0.5555555555555556,
              "#d8576b"
             ],
             [
              0.6666666666666666,
              "#ed7953"
             ],
             [
              0.7777777777777778,
              "#fb9f3a"
             ],
             [
              0.8888888888888888,
              "#fdca26"
             ],
             [
              1,
              "#f0f921"
             ]
            ],
            "type": "heatmapgl"
           }
          ],
          "histogram": [
           {
            "marker": {
             "pattern": {
              "fillmode": "overlay",
              "size": 10,
              "solidity": 0.2
             }
            },
            "type": "histogram"
           }
          ],
          "histogram2d": [
           {
            "colorbar": {
             "outlinewidth": 0,
             "ticks": ""
            },
            "colorscale": [
             [
              0,
              "#0d0887"
             ],
             [
              0.1111111111111111,
              "#46039f"
             ],
             [
              0.2222222222222222,
              "#7201a8"
             ],
             [
              0.3333333333333333,
              "#9c179e"
             ],
             [
              0.4444444444444444,
              "#bd3786"
             ],
             [
              0.5555555555555556,
              "#d8576b"
             ],
             [
              0.6666666666666666,
              "#ed7953"
             ],
             [
              0.7777777777777778,
              "#fb9f3a"
             ],
             [
              0.8888888888888888,
              "#fdca26"
             ],
             [
              1,
              "#f0f921"
             ]
            ],
            "type": "histogram2d"
           }
          ],
          "histogram2dcontour": [
           {
            "colorbar": {
             "outlinewidth": 0,
             "ticks": ""
            },
            "colorscale": [
             [
              0,
              "#0d0887"
             ],
             [
              0.1111111111111111,
              "#46039f"
             ],
             [
              0.2222222222222222,
              "#7201a8"
             ],
             [
              0.3333333333333333,
              "#9c179e"
             ],
             [
              0.4444444444444444,
              "#bd3786"
             ],
             [
              0.5555555555555556,
              "#d8576b"
             ],
             [
              0.6666666666666666,
              "#ed7953"
             ],
             [
              0.7777777777777778,
              "#fb9f3a"
             ],
             [
              0.8888888888888888,
              "#fdca26"
             ],
             [
              1,
              "#f0f921"
             ]
            ],
            "type": "histogram2dcontour"
           }
          ],
          "mesh3d": [
           {
            "colorbar": {
             "outlinewidth": 0,
             "ticks": ""
            },
            "type": "mesh3d"
           }
          ],
          "parcoords": [
           {
            "line": {
             "colorbar": {
              "outlinewidth": 0,
              "ticks": ""
             }
            },
            "type": "parcoords"
           }
          ],
          "pie": [
           {
            "automargin": true,
            "type": "pie"
           }
          ],
          "scatter": [
           {
            "fillpattern": {
             "fillmode": "overlay",
             "size": 10,
             "solidity": 0.2
            },
            "type": "scatter"
           }
          ],
          "scatter3d": [
           {
            "line": {
             "colorbar": {
              "outlinewidth": 0,
              "ticks": ""
             }
            },
            "marker": {
             "colorbar": {
              "outlinewidth": 0,
              "ticks": ""
             }
            },
            "type": "scatter3d"
           }
          ],
          "scattercarpet": [
           {
            "marker": {
             "colorbar": {
              "outlinewidth": 0,
              "ticks": ""
             }
            },
            "type": "scattercarpet"
           }
          ],
          "scattergeo": [
           {
            "marker": {
             "colorbar": {
              "outlinewidth": 0,
              "ticks": ""
             }
            },
            "type": "scattergeo"
           }
          ],
          "scattergl": [
           {
            "marker": {
             "colorbar": {
              "outlinewidth": 0,
              "ticks": ""
             }
            },
            "type": "scattergl"
           }
          ],
          "scattermapbox": [
           {
            "marker": {
             "colorbar": {
              "outlinewidth": 0,
              "ticks": ""
             }
            },
            "type": "scattermapbox"
           }
          ],
          "scatterpolar": [
           {
            "marker": {
             "colorbar": {
              "outlinewidth": 0,
              "ticks": ""
             }
            },
            "type": "scatterpolar"
           }
          ],
          "scatterpolargl": [
           {
            "marker": {
             "colorbar": {
              "outlinewidth": 0,
              "ticks": ""
             }
            },
            "type": "scatterpolargl"
           }
          ],
          "scatterternary": [
           {
            "marker": {
             "colorbar": {
              "outlinewidth": 0,
              "ticks": ""
             }
            },
            "type": "scatterternary"
           }
          ],
          "surface": [
           {
            "colorbar": {
             "outlinewidth": 0,
             "ticks": ""
            },
            "colorscale": [
             [
              0,
              "#0d0887"
             ],
             [
              0.1111111111111111,
              "#46039f"
             ],
             [
              0.2222222222222222,
              "#7201a8"
             ],
             [
              0.3333333333333333,
              "#9c179e"
             ],
             [
              0.4444444444444444,
              "#bd3786"
             ],
             [
              0.5555555555555556,
              "#d8576b"
             ],
             [
              0.6666666666666666,
              "#ed7953"
             ],
             [
              0.7777777777777778,
              "#fb9f3a"
             ],
             [
              0.8888888888888888,
              "#fdca26"
             ],
             [
              1,
              "#f0f921"
             ]
            ],
            "type": "surface"
           }
          ],
          "table": [
           {
            "cells": {
             "fill": {
              "color": "#EBF0F8"
             },
             "line": {
              "color": "white"
             }
            },
            "header": {
             "fill": {
              "color": "#C8D4E3"
             },
             "line": {
              "color": "white"
             }
            },
            "type": "table"
           }
          ]
         },
         "layout": {
          "annotationdefaults": {
           "arrowcolor": "#2a3f5f",
           "arrowhead": 0,
           "arrowwidth": 1
          },
          "autotypenumbers": "strict",
          "coloraxis": {
           "colorbar": {
            "outlinewidth": 0,
            "ticks": ""
           }
          },
          "colorscale": {
           "diverging": [
            [
             0,
             "#8e0152"
            ],
            [
             0.1,
             "#c51b7d"
            ],
            [
             0.2,
             "#de77ae"
            ],
            [
             0.3,
             "#f1b6da"
            ],
            [
             0.4,
             "#fde0ef"
            ],
            [
             0.5,
             "#f7f7f7"
            ],
            [
             0.6,
             "#e6f5d0"
            ],
            [
             0.7,
             "#b8e186"
            ],
            [
             0.8,
             "#7fbc41"
            ],
            [
             0.9,
             "#4d9221"
            ],
            [
             1,
             "#276419"
            ]
           ],
           "sequential": [
            [
             0,
             "#0d0887"
            ],
            [
             0.1111111111111111,
             "#46039f"
            ],
            [
             0.2222222222222222,
             "#7201a8"
            ],
            [
             0.3333333333333333,
             "#9c179e"
            ],
            [
             0.4444444444444444,
             "#bd3786"
            ],
            [
             0.5555555555555556,
             "#d8576b"
            ],
            [
             0.6666666666666666,
             "#ed7953"
            ],
            [
             0.7777777777777778,
             "#fb9f3a"
            ],
            [
             0.8888888888888888,
             "#fdca26"
            ],
            [
             1,
             "#f0f921"
            ]
           ],
           "sequentialminus": [
            [
             0,
             "#0d0887"
            ],
            [
             0.1111111111111111,
             "#46039f"
            ],
            [
             0.2222222222222222,
             "#7201a8"
            ],
            [
             0.3333333333333333,
             "#9c179e"
            ],
            [
             0.4444444444444444,
             "#bd3786"
            ],
            [
             0.5555555555555556,
             "#d8576b"
            ],
            [
             0.6666666666666666,
             "#ed7953"
            ],
            [
             0.7777777777777778,
             "#fb9f3a"
            ],
            [
             0.8888888888888888,
             "#fdca26"
            ],
            [
             1,
             "#f0f921"
            ]
           ]
          },
          "colorway": [
           "#636efa",
           "#EF553B",
           "#00cc96",
           "#ab63fa",
           "#FFA15A",
           "#19d3f3",
           "#FF6692",
           "#B6E880",
           "#FF97FF",
           "#FECB52"
          ],
          "font": {
           "color": "#2a3f5f"
          },
          "geo": {
           "bgcolor": "white",
           "lakecolor": "white",
           "landcolor": "#E5ECF6",
           "showlakes": true,
           "showland": true,
           "subunitcolor": "white"
          },
          "hoverlabel": {
           "align": "left"
          },
          "hovermode": "closest",
          "mapbox": {
           "style": "light"
          },
          "paper_bgcolor": "white",
          "plot_bgcolor": "#E5ECF6",
          "polar": {
           "angularaxis": {
            "gridcolor": "white",
            "linecolor": "white",
            "ticks": ""
           },
           "bgcolor": "#E5ECF6",
           "radialaxis": {
            "gridcolor": "white",
            "linecolor": "white",
            "ticks": ""
           }
          },
          "scene": {
           "xaxis": {
            "backgroundcolor": "#E5ECF6",
            "gridcolor": "white",
            "gridwidth": 2,
            "linecolor": "white",
            "showbackground": true,
            "ticks": "",
            "zerolinecolor": "white"
           },
           "yaxis": {
            "backgroundcolor": "#E5ECF6",
            "gridcolor": "white",
            "gridwidth": 2,
            "linecolor": "white",
            "showbackground": true,
            "ticks": "",
            "zerolinecolor": "white"
           },
           "zaxis": {
            "backgroundcolor": "#E5ECF6",
            "gridcolor": "white",
            "gridwidth": 2,
            "linecolor": "white",
            "showbackground": true,
            "ticks": "",
            "zerolinecolor": "white"
           }
          },
          "shapedefaults": {
           "line": {
            "color": "#2a3f5f"
           }
          },
          "ternary": {
           "aaxis": {
            "gridcolor": "white",
            "linecolor": "white",
            "ticks": ""
           },
           "baxis": {
            "gridcolor": "white",
            "linecolor": "white",
            "ticks": ""
           },
           "bgcolor": "#E5ECF6",
           "caxis": {
            "gridcolor": "white",
            "linecolor": "white",
            "ticks": ""
           }
          },
          "title": {
           "x": 0.05
          },
          "xaxis": {
           "automargin": true,
           "gridcolor": "white",
           "linecolor": "white",
           "ticks": "",
           "title": {
            "standoff": 15
           },
           "zerolinecolor": "white",
           "zerolinewidth": 2
          },
          "yaxis": {
           "automargin": true,
           "gridcolor": "white",
           "linecolor": "white",
           "ticks": "",
           "title": {
            "standoff": 15
           },
           "zerolinecolor": "white",
           "zerolinewidth": 2
          }
         }
        },
        "width": 800
       }
      },
      "text/html": [
       "<div>                            <div id=\"037f42f6-bd74-43a3-8e30-d6bc7585f5bb\" class=\"plotly-graph-div\" style=\"height:700px; width:800px;\"></div>            <script type=\"text/javascript\">                require([\"plotly\"], function(Plotly) {                    window.PLOTLYENV=window.PLOTLYENV || {};                                    if (document.getElementById(\"037f42f6-bd74-43a3-8e30-d6bc7585f5bb\")) {                    Plotly.newPlot(                        \"037f42f6-bd74-43a3-8e30-d6bc7585f5bb\",                        [{\"line\":{\"color\":\"darkblue\",\"width\":3},\"marker\":{\"size\":10},\"x\":[0.0,0.049404,0.097632,0.14470799999999998,0.19065600000000002,0.23550000000000004,0.27926399999999996,0.32197200000000004,0.363648,0.40431600000000006,0.44400000000000006,0.4827240000000001,0.520512,0.5573880000000001,0.5933760000000001,0.6285,0.6627839999999998,0.6962520000000001,0.7289280000000001,0.7608360000000002,0.7920000000000003,0.8224440000000001,0.8521920000000001,0.881268,0.9096959999999998,0.9375,0.9647040000000001,0.9913319999999999,1.017408,1.0429559999999998,1.0679999999999998,1.0925639999999996,1.1166719999999997,1.140348,1.1636159999999998,1.1864999999999997,1.2090239999999999,1.231212,1.2530880000000002,1.2746759999999997,1.2960000000000003,1.317084,1.3379520000000003,1.3586280000000004,1.3791360000000001,1.3995000000000002,1.4197440000000001,1.4398920000000002,1.459968,1.4799959999999999,1.5,1.520004,1.540032,1.560108,1.5802559999999999,1.6005000000000003,1.620864,1.641372,1.6620479999999997,1.6829159999999999,1.704,1.725324,1.746912,1.7687880000000002,1.7909760000000001,1.8135,1.8363840000000002,1.859652,1.883328,1.9074360000000001,1.9320000000000002,1.957044,1.982592,2.0086679999999997,2.0352959999999998,2.0625,2.090304,2.1187319999999996,2.147808,2.177556,2.208,2.2391639999999997,2.271072,2.303748,2.3372159999999997,2.3714999999999997,2.406624,2.4426119999999996,2.479488,2.517276,2.556,2.5956840000000003,2.636352,2.6780280000000003,2.720736,2.7645000000000004,2.809344,2.855292,2.9023679999999996,2.9505960000000004,3.0],\"y\":[0.0,0.0005960000000000001,0.0023680000000000003,0.005292000000000001,0.009344,0.014500000000000002,0.020735999999999997,0.028028,0.036352,0.045684,0.056000000000000015,0.067276,0.079488,0.09261200000000001,0.10662400000000001,0.1215,0.137216,0.15374800000000002,0.171072,0.18916400000000003,0.20800000000000007,0.22755599999999998,0.247808,0.268732,0.290304,0.3125,0.33529600000000004,0.358668,0.382592,0.4070439999999999,0.432,0.45743599999999995,0.483328,0.509652,0.536384,0.5635,0.590976,0.618788,0.6469119999999999,0.675324,0.7040000000000001,0.7329160000000001,0.762048,0.7913720000000001,0.820864,0.8505000000000001,0.8802560000000001,0.9101080000000001,0.940032,0.970004,1.0,1.0299960000000001,1.059968,1.089892,1.119744,1.1495000000000002,1.1791360000000002,1.208628,1.237952,1.2670839999999999,1.296,1.3246759999999997,1.353088,1.381212,1.409024,1.4365,1.463616,1.490348,1.5166720000000002,1.542564,1.568,1.592956,1.617408,1.6413319999999998,1.664704,1.6875,1.709696,1.731268,1.752192,1.7724440000000001,1.7920000000000003,1.8108360000000001,1.8289279999999999,1.846252,1.8627839999999998,1.8784999999999998,1.893376,1.907388,1.920512,1.932724,1.9440000000000002,1.954316,1.9636479999999998,1.971972,1.979264,1.9855,1.990656,1.9947080000000001,1.9976319999999999,1.9994040000000002,2.0],\"z\":[0.0,0.000447,0.0017760000000000005,0.003969,0.0070079999999999995,0.010875000000000003,0.015551999999999998,0.021021,0.027264000000000007,0.034263,0.04200000000000001,0.050457,0.059616,0.06945900000000002,0.07996800000000001,0.091125,0.10291199999999999,0.11531100000000002,0.128304,0.14187300000000003,0.15600000000000006,0.17066699999999999,0.18585599999999997,0.201549,0.217728,0.234375,0.25147200000000003,0.269001,0.28694400000000003,0.3052829999999999,0.32399999999999995,0.343077,0.36249600000000004,0.382239,0.40228800000000003,0.42262500000000003,0.443232,0.464091,0.485184,0.506493,0.528,0.549687,0.5715359999999999,0.5935290000000001,0.6156480000000001,0.6378750000000002,0.6601920000000001,0.6825810000000001,0.7050240000000001,0.7275029999999999,0.75,0.772497,0.7949760000000001,0.817419,0.8398080000000001,0.8621250000000003,0.884352,0.906471,0.9284639999999998,0.9503129999999999,0.9720000000000001,0.9935069999999999,1.014816,1.0359090000000002,1.0567680000000002,1.077375,1.097712,1.117761,1.137504,1.1569230000000001,1.1760000000000002,1.194717,1.213056,1.2309989999999997,1.2485279999999999,1.265625,1.282272,1.298451,1.3141440000000002,1.329333,1.3440000000000003,1.358127,1.371696,1.384689,1.3970879999999999,1.4088749999999999,1.420032,1.4305409999999998,1.4403839999999999,1.449543,1.4580000000000002,1.465737,1.472736,1.478979,1.484448,1.489125,1.492992,1.496031,1.498224,1.4995530000000001,1.5],\"type\":\"scatter3d\"}],                        {\"template\":{\"data\":{\"histogram2dcontour\":[{\"type\":\"histogram2dcontour\",\"colorbar\":{\"outlinewidth\":0,\"ticks\":\"\"},\"colorscale\":[[0.0,\"#0d0887\"],[0.1111111111111111,\"#46039f\"],[0.2222222222222222,\"#7201a8\"],[0.3333333333333333,\"#9c179e\"],[0.4444444444444444,\"#bd3786\"],[0.5555555555555556,\"#d8576b\"],[0.6666666666666666,\"#ed7953\"],[0.7777777777777778,\"#fb9f3a\"],[0.8888888888888888,\"#fdca26\"],[1.0,\"#f0f921\"]]}],\"choropleth\":[{\"type\":\"choropleth\",\"colorbar\":{\"outlinewidth\":0,\"ticks\":\"\"}}],\"histogram2d\":[{\"type\":\"histogram2d\",\"colorbar\":{\"outlinewidth\":0,\"ticks\":\"\"},\"colorscale\":[[0.0,\"#0d0887\"],[0.1111111111111111,\"#46039f\"],[0.2222222222222222,\"#7201a8\"],[0.3333333333333333,\"#9c179e\"],[0.4444444444444444,\"#bd3786\"],[0.5555555555555556,\"#d8576b\"],[0.6666666666666666,\"#ed7953\"],[0.7777777777777778,\"#fb9f3a\"],[0.8888888888888888,\"#fdca26\"],[1.0,\"#f0f921\"]]}],\"heatmap\":[{\"type\":\"heatmap\",\"colorbar\":{\"outlinewidth\":0,\"ticks\":\"\"},\"colorscale\":[[0.0,\"#0d0887\"],[0.1111111111111111,\"#46039f\"],[0.2222222222222222,\"#7201a8\"],[0.3333333333333333,\"#9c179e\"],[0.4444444444444444,\"#bd3786\"],[0.5555555555555556,\"#d8576b\"],[0.6666666666666666,\"#ed7953\"],[0.7777777777777778,\"#fb9f3a\"],[0.8888888888888888,\"#fdca26\"],[1.0,\"#f0f921\"]]}],\"heatmapgl\":[{\"type\":\"heatmapgl\",\"colorbar\":{\"outlinewidth\":0,\"ticks\":\"\"},\"colorscale\":[[0.0,\"#0d0887\"],[0.1111111111111111,\"#46039f\"],[0.2222222222222222,\"#7201a8\"],[0.3333333333333333,\"#9c179e\"],[0.4444444444444444,\"#bd3786\"],[0.5555555555555556,\"#d8576b\"],[0.6666666666666666,\"#ed7953\"],[0.7777777777777778,\"#fb9f3a\"],[0.8888888888888888,\"#fdca26\"],[1.0,\"#f0f921\"]]}],\"contourcarpet\":[{\"type\":\"contourcarpet\",\"colorbar\":{\"outlinewidth\":0,\"ticks\":\"\"}}],\"contour\":[{\"type\":\"contour\",\"colorbar\":{\"outlinewidth\":0,\"ticks\":\"\"},\"colorscale\":[[0.0,\"#0d0887\"],[0.1111111111111111,\"#46039f\"],[0.2222222222222222,\"#7201a8\"],[0.3333333333333333,\"#9c179e\"],[0.4444444444444444,\"#bd3786\"],[0.5555555555555556,\"#d8576b\"],[0.6666666666666666,\"#ed7953\"],[0.7777777777777778,\"#fb9f3a\"],[0.8888888888888888,\"#fdca26\"],[1.0,\"#f0f921\"]]}],\"surface\":[{\"type\":\"surface\",\"colorbar\":{\"outlinewidth\":0,\"ticks\":\"\"},\"colorscale\":[[0.0,\"#0d0887\"],[0.1111111111111111,\"#46039f\"],[0.2222222222222222,\"#7201a8\"],[0.3333333333333333,\"#9c179e\"],[0.4444444444444444,\"#bd3786\"],[0.5555555555555556,\"#d8576b\"],[0.6666666666666666,\"#ed7953\"],[0.7777777777777778,\"#fb9f3a\"],[0.8888888888888888,\"#fdca26\"],[1.0,\"#f0f921\"]]}],\"mesh3d\":[{\"type\":\"mesh3d\",\"colorbar\":{\"outlinewidth\":0,\"ticks\":\"\"}}],\"scatter\":[{\"fillpattern\":{\"fillmode\":\"overlay\",\"size\":10,\"solidity\":0.2},\"type\":\"scatter\"}],\"parcoords\":[{\"type\":\"parcoords\",\"line\":{\"colorbar\":{\"outlinewidth\":0,\"ticks\":\"\"}}}],\"scatterpolargl\":[{\"type\":\"scatterpolargl\",\"marker\":{\"colorbar\":{\"outlinewidth\":0,\"ticks\":\"\"}}}],\"bar\":[{\"error_x\":{\"color\":\"#2a3f5f\"},\"error_y\":{\"color\":\"#2a3f5f\"},\"marker\":{\"line\":{\"color\":\"#E5ECF6\",\"width\":0.5},\"pattern\":{\"fillmode\":\"overlay\",\"size\":10,\"solidity\":0.2}},\"type\":\"bar\"}],\"scattergeo\":[{\"type\":\"scattergeo\",\"marker\":{\"colorbar\":{\"outlinewidth\":0,\"ticks\":\"\"}}}],\"scatterpolar\":[{\"type\":\"scatterpolar\",\"marker\":{\"colorbar\":{\"outlinewidth\":0,\"ticks\":\"\"}}}],\"histogram\":[{\"marker\":{\"pattern\":{\"fillmode\":\"overlay\",\"size\":10,\"solidity\":0.2}},\"type\":\"histogram\"}],\"scattergl\":[{\"type\":\"scattergl\",\"marker\":{\"colorbar\":{\"outlinewidth\":0,\"ticks\":\"\"}}}],\"scatter3d\":[{\"type\":\"scatter3d\",\"line\":{\"colorbar\":{\"outlinewidth\":0,\"ticks\":\"\"}},\"marker\":{\"colorbar\":{\"outlinewidth\":0,\"ticks\":\"\"}}}],\"scattermapbox\":[{\"type\":\"scattermapbox\",\"marker\":{\"colorbar\":{\"outlinewidth\":0,\"ticks\":\"\"}}}],\"scatterternary\":[{\"type\":\"scatterternary\",\"marker\":{\"colorbar\":{\"outlinewidth\":0,\"ticks\":\"\"}}}],\"scattercarpet\":[{\"type\":\"scattercarpet\",\"marker\":{\"colorbar\":{\"outlinewidth\":0,\"ticks\":\"\"}}}],\"carpet\":[{\"aaxis\":{\"endlinecolor\":\"#2a3f5f\",\"gridcolor\":\"white\",\"linecolor\":\"white\",\"minorgridcolor\":\"white\",\"startlinecolor\":\"#2a3f5f\"},\"baxis\":{\"endlinecolor\":\"#2a3f5f\",\"gridcolor\":\"white\",\"linecolor\":\"white\",\"minorgridcolor\":\"white\",\"startlinecolor\":\"#2a3f5f\"},\"type\":\"carpet\"}],\"table\":[{\"cells\":{\"fill\":{\"color\":\"#EBF0F8\"},\"line\":{\"color\":\"white\"}},\"header\":{\"fill\":{\"color\":\"#C8D4E3\"},\"line\":{\"color\":\"white\"}},\"type\":\"table\"}],\"barpolar\":[{\"marker\":{\"line\":{\"color\":\"#E5ECF6\",\"width\":0.5},\"pattern\":{\"fillmode\":\"overlay\",\"size\":10,\"solidity\":0.2}},\"type\":\"barpolar\"}],\"pie\":[{\"automargin\":true,\"type\":\"pie\"}]},\"layout\":{\"autotypenumbers\":\"strict\",\"colorway\":[\"#636efa\",\"#EF553B\",\"#00cc96\",\"#ab63fa\",\"#FFA15A\",\"#19d3f3\",\"#FF6692\",\"#B6E880\",\"#FF97FF\",\"#FECB52\"],\"font\":{\"color\":\"#2a3f5f\"},\"hovermode\":\"closest\",\"hoverlabel\":{\"align\":\"left\"},\"paper_bgcolor\":\"white\",\"plot_bgcolor\":\"#E5ECF6\",\"polar\":{\"bgcolor\":\"#E5ECF6\",\"angularaxis\":{\"gridcolor\":\"white\",\"linecolor\":\"white\",\"ticks\":\"\"},\"radialaxis\":{\"gridcolor\":\"white\",\"linecolor\":\"white\",\"ticks\":\"\"}},\"ternary\":{\"bgcolor\":\"#E5ECF6\",\"aaxis\":{\"gridcolor\":\"white\",\"linecolor\":\"white\",\"ticks\":\"\"},\"baxis\":{\"gridcolor\":\"white\",\"linecolor\":\"white\",\"ticks\":\"\"},\"caxis\":{\"gridcolor\":\"white\",\"linecolor\":\"white\",\"ticks\":\"\"}},\"coloraxis\":{\"colorbar\":{\"outlinewidth\":0,\"ticks\":\"\"}},\"colorscale\":{\"sequential\":[[0.0,\"#0d0887\"],[0.1111111111111111,\"#46039f\"],[0.2222222222222222,\"#7201a8\"],[0.3333333333333333,\"#9c179e\"],[0.4444444444444444,\"#bd3786\"],[0.5555555555555556,\"#d8576b\"],[0.6666666666666666,\"#ed7953\"],[0.7777777777777778,\"#fb9f3a\"],[0.8888888888888888,\"#fdca26\"],[1.0,\"#f0f921\"]],\"sequentialminus\":[[0.0,\"#0d0887\"],[0.1111111111111111,\"#46039f\"],[0.2222222222222222,\"#7201a8\"],[0.3333333333333333,\"#9c179e\"],[0.4444444444444444,\"#bd3786\"],[0.5555555555555556,\"#d8576b\"],[0.6666666666666666,\"#ed7953\"],[0.7777777777777778,\"#fb9f3a\"],[0.8888888888888888,\"#fdca26\"],[1.0,\"#f0f921\"]],\"diverging\":[[0,\"#8e0152\"],[0.1,\"#c51b7d\"],[0.2,\"#de77ae\"],[0.3,\"#f1b6da\"],[0.4,\"#fde0ef\"],[0.5,\"#f7f7f7\"],[0.6,\"#e6f5d0\"],[0.7,\"#b8e186\"],[0.8,\"#7fbc41\"],[0.9,\"#4d9221\"],[1,\"#276419\"]]},\"xaxis\":{\"gridcolor\":\"white\",\"linecolor\":\"white\",\"ticks\":\"\",\"title\":{\"standoff\":15},\"zerolinecolor\":\"white\",\"automargin\":true,\"zerolinewidth\":2},\"yaxis\":{\"gridcolor\":\"white\",\"linecolor\":\"white\",\"ticks\":\"\",\"title\":{\"standoff\":15},\"zerolinecolor\":\"white\",\"automargin\":true,\"zerolinewidth\":2},\"scene\":{\"xaxis\":{\"backgroundcolor\":\"#E5ECF6\",\"gridcolor\":\"white\",\"linecolor\":\"white\",\"showbackground\":true,\"ticks\":\"\",\"zerolinecolor\":\"white\",\"gridwidth\":2},\"yaxis\":{\"backgroundcolor\":\"#E5ECF6\",\"gridcolor\":\"white\",\"linecolor\":\"white\",\"showbackground\":true,\"ticks\":\"\",\"zerolinecolor\":\"white\",\"gridwidth\":2},\"zaxis\":{\"backgroundcolor\":\"#E5ECF6\",\"gridcolor\":\"white\",\"linecolor\":\"white\",\"showbackground\":true,\"ticks\":\"\",\"zerolinecolor\":\"white\",\"gridwidth\":2}},\"shapedefaults\":{\"line\":{\"color\":\"#2a3f5f\"}},\"annotationdefaults\":{\"arrowcolor\":\"#2a3f5f\",\"arrowhead\":0,\"arrowwidth\":1},\"geo\":{\"bgcolor\":\"white\",\"landcolor\":\"#E5ECF6\",\"subunitcolor\":\"white\",\"showland\":true,\"showlakes\":true,\"lakecolor\":\"white\"},\"title\":{\"x\":0.05},\"mapbox\":{\"style\":\"light\"}}},\"scene\":{\"camera\":{\"up\":{\"x\":0,\"y\":0,\"z\":1},\"eye\":{\"x\":-0.75,\"y\":-1.5,\"z\":1}},\"aspectratio\":{\"x\":1,\"y\":1,\"z\":0.5},\"aspectmode\":\"manual\",\"xaxis\":{\"showbackground\":false,\"color\":\"rgba(14, 14, 14, 1)\",\"gridcolor\":\"rgba(104, 104, 104, 1)\"},\"yaxis\":{\"showbackground\":false,\"color\":\"rgba(14, 14, 14, 1)\",\"gridcolor\":\"rgba(104, 104, 104, 1)\"},\"zaxis\":{\"showbackground\":false,\"color\":\"rgba(14, 14, 14, 1)\",\"gridcolor\":\"rgba(104, 104, 104, 1)\"}},\"width\":800,\"height\":700,\"autosize\":false},                        {\"responsive\": true}                    ).then(function(){\n",
       "                            \n",
       "var gd = document.getElementById('037f42f6-bd74-43a3-8e30-d6bc7585f5bb');\n",
       "var x = new MutationObserver(function (mutations, observer) {{\n",
       "        var display = window.getComputedStyle(gd).display;\n",
       "        if (!display || display === 'none') {{\n",
       "            console.log([gd, 'removed!']);\n",
       "            Plotly.purge(gd);\n",
       "            observer.disconnect();\n",
       "        }}\n",
       "}});\n",
       "\n",
       "// Listen for the removal of the full notebook cells\n",
       "var notebookContainer = gd.closest('#notebook-container');\n",
       "if (notebookContainer) {{\n",
       "    x.observe(notebookContainer, {childList: true});\n",
       "}}\n",
       "\n",
       "// Listen for the clearing of the current output cell\n",
       "var outputEl = gd.closest('.output');\n",
       "if (outputEl) {{\n",
       "    x.observe(outputEl, {childList: true});\n",
       "}}\n",
       "\n",
       "                        })                };                });            </script>        </div>"
      ]
     },
     "metadata": {},
     "output_type": "display_data"
    }
   ],
   "source": [
    "fig_ext2 = go.Figure(data=go.Scatter3d(\n",
    "    x=df[\"x\"], y=df[\"y\"], z=df[\"z\"],\n",
    "    marker=dict(\n",
    "        size=10,\n",
    "    ),\n",
    "    line=dict(\n",
    "        color='darkblue',\n",
    "        width=3\n",
    "    )\n",
    "))\n",
    "\n",
    "fig_ext2.update_layout(\n",
    "    width=800,\n",
    "    height=700,\n",
    "    autosize=False,\n",
    "    scene=dict(\n",
    "        camera=dict(\n",
    "            up=dict(\n",
    "                x=0,\n",
    "                y=0,\n",
    "                z=1\n",
    "            ),\n",
    "            eye=dict(\n",
    "                x=-0.75,\n",
    "                y=-1.5,\n",
    "                z=1,\n",
    "            )\n",
    "        ),\n",
    "        aspectratio = dict( x=1, y=1, z=0.5 ),\n",
    "        aspectmode = 'manual'\n",
    "    ),\n",
    ")\n",
    "# See https://plotly.com/python/reference/layout/scene/\n",
    "axis_params = dict(\n",
    "    # backgroundcolor=\"rgba(104, 104, 104, 0.1)\",\n",
    "    showbackground=False,\n",
    "    color=\"rgba(14, 14, 14, 1)\",\n",
    "    gridcolor=\"rgba(104, 104, 104, 1)\",\n",
    "    # zeroline=True,\n",
    ")\n",
    "fig_ext2.update_scenes(\n",
    "    xaxis=axis_params,\n",
    "    yaxis=axis_params,\n",
    "    zaxis=axis_params,\n",
    ")\n",
    "\n",
    "fig_ext2.show()\n"
   ]
  },
  {
   "cell_type": "code",
   "execution_count": null,
   "id": "439f188e-612a-4d1a-ba85-11de39dfaacf",
   "metadata": {},
   "outputs": [],
   "source": []
  }
 ],
 "metadata": {
  "kernelspec": {
   "display_name": "try_panel",
   "language": "python",
   "name": "try_panel"
  },
  "language_info": {
   "codemirror_mode": {
    "name": "ipython",
    "version": 3
   },
   "file_extension": ".py",
   "mimetype": "text/x-python",
   "name": "python",
   "nbconvert_exporter": "python",
   "pygments_lexer": "ipython3",
   "version": "3.10.6"
  }
 },
 "nbformat": 4,
 "nbformat_minor": 5
}
